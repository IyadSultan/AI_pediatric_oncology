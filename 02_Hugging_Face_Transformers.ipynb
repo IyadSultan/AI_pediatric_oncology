{
  "nbformat": 4,
  "nbformat_minor": 0,
  "metadata": {
    "colab": {
      "provenance": [],
      "toc_visible": true,
      "authorship_tag": "ABX9TyOfg+PmejWwh2LPrEVSIR1g",
      "include_colab_link": true
    },
    "kernelspec": {
      "name": "python3",
      "display_name": "Python 3"
    },
    "language_info": {
      "name": "python"
    }
  },
  "cells": [
    {
      "cell_type": "markdown",
      "metadata": {
        "id": "view-in-github",
        "colab_type": "text"
      },
      "source": [
        "<a href=\"https://colab.research.google.com/github/IyadSultan/AI_pediatric_oncology/blob/main/02_Hugging_Face_Transformers.ipynb\" target=\"_parent\"><img src=\"https://colab.research.google.com/assets/colab-badge.svg\" alt=\"Open In Colab\"/></a>"
      ]
    },
    {
      "cell_type": "markdown",
      "source": [
        "# Hugging Face Transformers"
      ],
      "metadata": {
        "id": "-GUpdQJyiQZi"
      }
    },
    {
      "cell_type": "markdown",
      "source": [
        "---\n",
        "\n",
        "# Introduction\n",
        "\n",
        "In this session, we will explore how to use **Hugging Face Transformers** to perform **Named Entity Recognition (NER)** on medical text.  \n",
        "This tutorial is designed for **pediatric oncologists** and **healthcare professionals** with minimal coding experience, and it builds on a previous workshop where we covered **Python basics** and the **OpenAI API**.  \n",
        "Here, we'll shift focus to **open-source transformer models** that run in our environment (**Google Colab**) without requiring an external API.\n",
        "\n",
        "---\n",
        "\n",
        "## What is NER?\n",
        "\n",
        "**Named Entity Recognition (NER)** is a technique to automatically identify and classify key terms (entities) in text into categories like:\n",
        "- Diseases\n",
        "- Medications\n",
        "- Symptoms\n",
        "\n",
        "**Example**:  \n",
        "In a clinical note, an NER model might automatically highlight a disease name like **\"acute lymphoblastic leukemia\"** or a medication like **\"vincristine.\"**\n",
        "\n",
        "---\n",
        "\n",
        "## By the End of This Tutorial, You Will Be Able To:\n",
        "\n",
        "- **Set up and install** the Hugging Face Transformers library in Colab.\n",
        "- **Load a pre-trained medical NER model** from Hugging Face (no training required).\n",
        "- **Tokenize and run the model** on synthetic pediatric oncology notes to extract entities.\n",
        "- **Build a simple interactive UI** with Streamlit to input text and highlight extracted entities.\n",
        "- **Understand real-world applications** of these tools:\n",
        "  - Classification\n",
        "  - Named Entity Recognition (NER)\n",
        "  - Embeddings\n",
        "- **Collaborate effectively** with data scientists to prototype AI solutions in clinical settings.\n",
        "\n",
        "---\n",
        "\n",
        "## Let's Get Started!\n",
        "\n",
        "---\n"
      ],
      "metadata": {
        "id": "cDEEV17xibbH"
      }
    },
    {
      "cell_type": "markdown",
      "source": [
        "# 1. Setting Up the Colab Environment\n",
        "First, we'll ensure the required libraries are installed. We need the Transformers library (from Hugging Face) and Streamlit for the UI part. In a Colab notebook, you can install packages using pip. Run the following cell to install Transformers and Streamlit:"
      ],
      "metadata": {
        "id": "CdBqsKmfi1EF"
      }
    },
    {
      "cell_type": "code",
      "execution_count": null,
      "metadata": {
        "id": "zRfr52HrTN9d"
      },
      "outputs": [],
      "source": [
        "!pip install transformers streamlit"
      ]
    },
    {
      "cell_type": "markdown",
      "source": [
        "Running pip install transformers will fetch the Hugging Face Transformers library, which provides access to state-of-the-art Transformer models for NLP tasks (including NER). Similarly, streamlit will be installed for building our web interface. After this installation, we can import the libraries in Python."
      ],
      "metadata": {
        "id": "-7MqdCtIi8Zd"
      }
    },
    {
      "cell_type": "markdown",
      "source": [
        "# 2. Importing the Transformers Library"
      ],
      "metadata": {
        "id": "e1Ja9fh6jBb2"
      }
    },
    {
      "cell_type": "markdown",
      "source": [
        "With the libraries installed, we import the necessary classes and functions from Transformers. We'll use Hugging Face's high-level pipeline API as well as some specific classes for tokenization and modeling:"
      ],
      "metadata": {
        "id": "oro7VPuEiRIQ"
      }
    },
    {
      "cell_type": "code",
      "source": [
        "from transformers import pipeline, AutoTokenizer, AutoModelForTokenClassification"
      ],
      "metadata": {
        "id": "JiEeVQYDiRnA"
      },
      "execution_count": null,
      "outputs": []
    },
    {
      "cell_type": "markdown",
      "source": [
        "**pipeline** is an easy-to-use function that abstracts away a lot of the complexity behind running models​. It gives a simple interface for various tasks like NER, text generation, etc. (We'll use it for NER in this tutorial).\n",
        "\n",
        "As the Hugging Face docs note: “The pipelines are a great and easy way to use models for inference... offering a simple API dedicated to several tasks, including Named Entity Recognition.”​. In other words, pipelines let us apply a model in one line of code without deep knowledge of the model’s internals​.\n",
        "\n",
        "**AutoTokenizer** and **AutoModelForTokenClassification** are classes that automatically load the appropriate tokenizer and model architecture for a given model name. We use these to get the components for our NER model."
      ],
      "metadata": {
        "id": "MJkIQ-HJiRtr"
      }
    },
    {
      "cell_type": "markdown",
      "source": [
        "# 3. Loading a Pretrained Medical NER Model\n",
        "\n",
        "Hugging Face hosts thousands of pretrained models on their Hub. We will use a general biomedical NER model called d4data/biomedical-ner-all as an example. This model was trained to recognize a wide range of biomedical entities (it can identify 107 different types of entities in medical text​!). These include categories like medical conditions, medications, procedures, demographic info, etc., making it suitable for clinical notes​. The great thing is we don’t need to train anything ourselves – we can load this pretrained model directly.\n",
        "\n",
        "Let's load the model and tokenizer, then wrap them in a pipeline for NER:"
      ],
      "metadata": {
        "id": "thIpv8zhjcnU"
      }
    },
    {
      "cell_type": "code",
      "source": [
        "model_name = \"d4data/biomedical-ner-all\"\n",
        "\n",
        "# Load tokenizer and model from Hugging Face Hub\n",
        "tokenizer = AutoTokenizer.from_pretrained(model_name)\n",
        "model = AutoModelForTokenClassification.from_pretrained(model_name)\n",
        "\n",
        "# Create an NER pipeline with the model, using an aggregation strategy to group tokens into entities\n",
        "ner_pipeline = pipeline(\n",
        "    \"ner\",\n",
        "    model=model,\n",
        "    tokenizer=tokenizer,\n",
        "    aggregation_strategy=\"first\"  # 'simple' will group contiguous tokens into single entities\n",
        ")\n"
      ],
      "metadata": {
        "colab": {
          "base_uri": "https://localhost:8080/"
        },
        "id": "2AQPuu1aiRzw",
        "outputId": "05ef5c7c-72a9-4706-e706-3e3d515117d7"
      },
      "execution_count": null,
      "outputs": [
        {
          "output_type": "stream",
          "name": "stderr",
          "text": [
            "Device set to use cpu\n"
          ]
        }
      ]
    },
    {
      "cell_type": "markdown",
      "source": [
        "When this code runs, it will download the model weights and tokenizer for **\"d4data/biomedical-ner-all\"** from Hugging Face.\n",
        "\n",
        "Under the hood:\n",
        "The **tokenizer** is responsible for preprocessing text (splitting text into tokens and converting them to numeric IDs the model understands).\n",
        "\n",
        "The model is a transformer (DistilBERT base, in this case) fine-tuned for token classification (NER task).\n",
        "\n",
        "The pipeline with **aggregation_strategy=\"simple\"** means the pipeline will merge tokens that belong to the same entity, giving us whole entity spans instead of raw token-by-token output."
      ],
      "metadata": {
        "id": "63MDh-SPiR5K"
      }
    },
    {
      "cell_type": "code",
      "source": [
        "ner_pipeline = pipeline(\"ner\", model=model_name, aggregation_strategy=\"first\")  # try \"simple\", \"average\", \"max\" or \"first\" as an aggregation_strategy\n"
      ],
      "metadata": {
        "colab": {
          "base_uri": "https://localhost:8080/"
        },
        "id": "SdkqvLymiR-W",
        "outputId": "6138bc48-21bc-4060-97a3-808bece61580"
      },
      "execution_count": null,
      "outputs": [
        {
          "output_type": "stream",
          "name": "stderr",
          "text": [
            "Device set to use cpu\n"
          ]
        }
      ]
    },
    {
      "cell_type": "markdown",
      "source": [
        "This : would load the model and tokenizer internally by name. We showed the longer form above for clarity."
      ],
      "metadata": {
        "id": "g58EGDUTkRz4"
      }
    },
    {
      "cell_type": "markdown",
      "source": [
        "# 4. Tokenizing and Running NER on Synthetic Text\n",
        "Now that we have our **ner_pipeline**, let's test it on some example medical text. We'll create a synthetic clinical note inspired by pediatric oncology. It's important to use fake but realistic examples – so we ensure no real patient data is used, but the content resembles what a doctor might write. Example Clinical Note:\n",
        "\n",
        "\"*Patient is a 7-year-old boy with acute lymphoblastic leukemia (ALL) who presents with a two-week history of fever, bone pain, and fatigue. On exam, noted pallor and bruising. Plan is to start induction chemotherapy with vincristine, prednisone, and L-asparaginase.*\"\n",
        "\n",
        "This text contains various medical entities (age, disease name, symptoms, physical findings, treatment plan, drug names). Let's see if the model can identify these. We will run the pipeline on this text and examine the output:"
      ],
      "metadata": {
        "id": "LX0RdYqBiSNM"
      }
    },
    {
      "cell_type": "code",
      "source": [
        "# Synthetic pediatric oncology note\n",
        "text = (\"Patient is a 7-year-old boy with acute lymphoblastic leukemia (ALL) who presents with \"\n",
        "        \"a two-week history of fever, bone pain, and fatigue. On exam, noted pallor and bruising. \"\n",
        "        \"Plan is to start induction chemotherapy with vincristine, prednisone, and L-asparaginase.\")\n",
        "\n",
        "# Use the NER pipeline on the text\n",
        "entities = ner_pipeline(text)\n",
        "\n",
        "print(\"Entities found:\", len(entities))\n",
        "for ent in entities:\n",
        "    print(ent)\n"
      ],
      "metadata": {
        "colab": {
          "base_uri": "https://localhost:8080/"
        },
        "id": "FTk7Ycd6iSS-",
        "outputId": "62843958-2b69-409d-e79b-5b2f1afa9975"
      },
      "execution_count": null,
      "outputs": [
        {
          "output_type": "stream",
          "name": "stdout",
          "text": [
            "Entities found: 11\n",
            "{'entity_group': 'Age', 'score': np.float32(0.99662447), 'word': '7 - year - old', 'start': 13, 'end': 23}\n",
            "{'entity_group': 'Sex', 'score': np.float32(0.9985592), 'word': 'boy', 'start': 24, 'end': 27}\n",
            "{'entity_group': 'Detailed_description', 'score': np.float32(0.99693465), 'word': 'acute', 'start': 33, 'end': 38}\n",
            "{'entity_group': 'Disease_disorder', 'score': np.float32(0.9993123), 'word': 'lymphoblastic leukemia', 'start': 39, 'end': 61}\n",
            "{'entity_group': 'Duration', 'score': np.float32(0.9950433), 'word': 'two - week', 'start': 88, 'end': 96}\n",
            "{'entity_group': 'Biological_structure', 'score': np.float32(0.90964204), 'word': 'bone', 'start': 115, 'end': 119}\n",
            "{'entity_group': 'Sign_symptom', 'score': np.float32(0.99826247), 'word': 'pallor', 'start': 154, 'end': 160}\n",
            "{'entity_group': 'Medication', 'score': np.float32(0.9997482), 'word': 'chemotherapy', 'start': 202, 'end': 214}\n",
            "{'entity_group': 'Medication', 'score': np.float32(0.56305647), 'word': 'vincristine', 'start': 220, 'end': 231}\n",
            "{'entity_group': 'Medication', 'score': np.float32(0.9966965), 'word': 'prednisone', 'start': 233, 'end': 243}\n",
            "{'entity_group': 'Medication', 'score': np.float32(0.9012441), 'word': 'l', 'start': 249, 'end': 250}\n"
          ]
        }
      ]
    },
    {
      "cell_type": "markdown",
      "source": [
        "We can see the model found entities like \"7-year-old\" (categorized as Age), \"acute lymphoblastic leukemia\" (Disease), \"fever\", \"bone pain\", \"fatigue\" (all Symptoms), \"induction chemotherapy\" (Treatment), and the medications \"vincristine\", \"prednisone\", \"L-asparaginase\". This is great – without any manual coding of rules, the model identified key medical terms in the text and classified them.\n",
        "\n",
        "**How does this work? **\n",
        "The pipeline handled everything:\n",
        "- It tokenized the input (for example, splitting \"acute lymphoblastic leukemia\" into tokens like \"acute\", \"lymphoblastic\", \"leukemia\"). You can actually see the tokens by running tokenizer.tokenize(text) if curious.\n",
        "- The tokens were fed into the model, which is a neural network that output a predicted label for each token (like B-Disease, I-Disease for beginning/inside of a disease name, etc.).\n",
        "- The pipeline then aggregated those token-level labels into whole entity spans (that's why we got a single dictionary covering \"acute lymphoblastic leukemia\" as one entity, instead of three separate tokens). This makes the output easier to interpret.\n",
        "Hugging Face provides the model’s predictions in that convenient list-of-entities format, which we can now use for downstream purposes – such as highlighting these entities in the original text.\n",
        "\n"
      ],
      "metadata": {
        "id": "nksbDAeaiSXj"
      }
    },
    {
      "cell_type": "markdown",
      "source": [
        "# 5. Building a Simple Streamlit UI for NER\n",
        "To make our demo interactive, let's build a small web interface using Streamlit. Streamlit allows us to create a user interface (with text boxes, buttons, etc.) for our Python code easily. Participants can paste in a clinical note and click a button to see the NER results with highlights, which is more engaging than just printing raw output.\n",
        "\n",
        "We'll create a Streamlit app that does the following:\n",
        "- Provides a text area for inputting (or editing) a clinical note.\n",
        "- When a button is clicked, runs the ner_pipeline on the input text.\n",
        "- Displays the input text with the recognized entities highlighted (e.g., with a background color).\n",
        "\n",
        "In Colab, we will write the Streamlit app to a Python file (app.py) and then run it. Use the %%writefile magic to create the file:"
      ],
      "metadata": {
        "id": "HMEc6ILuoXD5"
      }
    },
    {
      "cell_type": "code",
      "source": [
        "%%writefile app.py\n",
        "import streamlit as st\n",
        "from transformers import pipeline\n",
        "\n",
        "# Load the same NER pipeline inside the app (this will use the model we downloaded)\n",
        "ner_pipeline = pipeline(\"ner\", model=\"d4data/biomedical-ner-all\", aggregation_strategy=\"simple\")\n",
        "\n",
        "# Streamlit UI layout\n",
        "st.title(\"Clinical NER Demo\")\n",
        "st.markdown(\"Enter a synthetic clinical note and **extract entities** using a pretrained Transformer model:\")\n",
        "\n",
        "# A text area for input\n",
        "default_text = (\"Patient is a 7-year-old boy with acute lymphoblastic leukemia (ALL) who presents with \"\n",
        "                \"a two-week history of fever, bone pain, and fatigue. On exam, noted pallor and bruising. \"\n",
        "                \"Plan is to start induction chemotherapy with vincristine, prednisone, and L-asparaginase.\")\n",
        "user_input = st.text_area(\"Clinical Note\", default_text, height=150)\n",
        "\n",
        "# Button to run NER\n",
        "if st.button(\"Extract Entities\"):\n",
        "    # Run the NER pipeline on the input text\n",
        "    entities = ner_pipeline(user_input)\n",
        "    # Highlight the entities in the text by wrapping them with HTML <mark> tag\n",
        "    highlighted_text = user_input\n",
        "    # Insert the highlight tags in reverse order of indices (to not mess up positions as we insert)\n",
        "    for ent in sorted(entities, key=lambda x: x['start'], reverse=True):\n",
        "        start, end = ent['start'], ent['end']\n",
        "        highlighted_text = (highlighted_text[:start]\n",
        "                             + f\"<mark>{highlighted_text[start:end]}</mark>\"\n",
        "                             + highlighted_text[end:])\n",
        "    # Display the highlighted text. 'unsafe_allow_html=True' lets us render the <mark> tags.\n",
        "    st.write(\"**Extracted Entities Highlighted:**\")\n",
        "    st.markdown(highlighted_text, unsafe_allow_html=True)\n"
      ],
      "metadata": {
        "colab": {
          "base_uri": "https://localhost:8080/"
        },
        "id": "U-uIQHRgiSbt",
        "outputId": "7af43ae0-ae05-4bf3-94aa-2de62af18470"
      },
      "execution_count": null,
      "outputs": [
        {
          "output_type": "stream",
          "name": "stdout",
          "text": [
            "Writing app.py\n"
          ]
        }
      ]
    },
    {
      "cell_type": "markdown",
      "source": [
        "---\n",
        "\n",
        "## Breaking Down the Code\n",
        "\n",
        "### App Setup\n",
        "- **Imports**:  \n",
        "  We import **Streamlit** and the **Transformers pipeline**.\n",
        "\n",
        "- **Model Initialization**:  \n",
        "  Inside the Streamlit script, we instantiate `ner_pipeline` again.  \n",
        "  - (Each Streamlit session needs its own copy of the model, which will download if not already cached.)\n",
        "\n",
        "- **Interface Elements**:\n",
        "  - **Title and Description**:  \n",
        "    Defined using `st.title()` and `st.markdown()` for instructions.\n",
        "  - **Text Input**:  \n",
        "    `st.text_area()` provides a multi-line input box, pre-filled with an example note.  \n",
        "    (The height is set to 150 pixels for better visibility.)\n",
        "\n",
        "- **Button for Entity Extraction**:\n",
        "  - **Trigger**:  \n",
        "    `st.button(\"Extract Entities\")` activates the following steps:\n",
        "    - Run the NER pipeline on the user's text input.\n",
        "    - Process the list of entities, inserting HTML highlight tags around the identified spans.\n",
        "    - **Important Detail**:  \n",
        "      Entities are sorted by their **start index in reverse order** to avoid disrupting earlier character positions when inserting HTML tags.\n",
        "    - Display the modified, highlighted text using `st.markdown(unsafe_allow_html=True)`.\n",
        "    - Add a label \"**Extracted Entities Highlighted:**\" for clarity.\n",
        "\n",
        "---\n",
        "\n",
        "### What the App Does\n",
        "- Takes input text and highlights identified entities in **yellow**.\n",
        "- Example:  \n",
        "  If \"acute lymphoblastic leukemia\" is recognized, it will be highlighted immediately after clicking **Extract Entities**.\n",
        "\n",
        "---\n",
        "\n",
        "## Running the Streamlit App in Colab\n",
        "\n",
        "### Challenge\n",
        "- Colab doesn’t natively display Streamlit apps (since Streamlit runs a separate web server).\n",
        "\n",
        "### Solution: Using LocalTunnel\n",
        "We will generate code to:\n",
        "- **Install LocalTunnel**:  \n",
        "  A utility to expose localhost ports publicly.\n",
        "- **Launch the Streamlit App**:  \n",
        "  Run it (`app.py`) in the background.\n",
        "- **Tunnel Port 8501**:  \n",
        "  (Streamlit’s default port) to generate a public URL.\n",
        "\n",
        "---\n"
      ],
      "metadata": {
        "id": "fNnq44-DiSgl"
      }
    },
    {
      "cell_type": "code",
      "source": [
        "!npm install -q localtunnel\n",
        "!streamlit run app.py & npx localtunnel --port 8501\n",
        "# you need to run the next cell to get the tunnel password\n"
      ],
      "metadata": {
        "id": "_7zKkzMiiSlH"
      },
      "execution_count": null,
      "outputs": []
    },
    {
      "cell_type": "code",
      "source": [
        "!curl https://loca.lt/mytunnelpassword\n"
      ],
      "metadata": {
        "id": "EmYd_w0gqb1k"
      },
      "execution_count": null,
      "outputs": []
    },
    {
      "cell_type": "markdown",
      "source": [
        "---\n",
        "\n",
        "## Launching a Streamlit App with LocalTunnel\n",
        "\n",
        "### Steps Overview\n",
        "- **Install LocalTunnel**:  \n",
        "  The first line installs LocalTunnel using Node’s package manager (`npm`).  \n",
        "  - The `-q` flag quiets the output.\n",
        "\n",
        "- **Run the App**:  \n",
        "  The second line runs the Streamlit app (`app.py`).  \n",
        "  - The `&` symbol makes it run in the background.  \n",
        "  - Then, `npx localtunnel --port 8501` starts the tunneling.\n",
        "\n",
        "- **Access the URL**:  \n",
        "  After a moment, you should see an output URL (usually ending with `.loca.lt`).  \n",
        "  This URL tunnels into the Colab environment on port 8501.\n",
        "\n",
        "---\n",
        "\n",
        "### How to Use It\n",
        "👉 **Click the URL that appears** (e.g., `https://warm-mouse-1234.loca.lt`).  \n",
        "This will open a new page displaying your Streamlit app.\n",
        "\n",
        "- You should see the title **\"Clinical NER Demo\"** and some pre-filled example text.\n",
        "- Hit the **\"Extract Entities\"** button.\n",
        "- After a second, the entities in the text will be highlighted!\n",
        "\n",
        "---\n",
        "\n",
        "### Experimenting with the App\n",
        "- Try **editing the text** to simulate different clinical scenarios.\n",
        "- Change symptoms, diseases, or add new sentences.\n",
        "- Click the **\"Extract Entities\"** button again to see how the model responds.\n",
        "\n",
        "---\n",
        "\n",
        "### Troubleshooting\n",
        "- If the LocalTunnel URL **doesn’t show or connect**, you may need to **rerun the cell**.  \n",
        "- Occasionally, the tunnel fails to establish on the first attempt — this is normal.\n",
        "\n",
        "---\n",
        "\n",
        "### Real-World Context\n",
        "Streamlit makes it easy to build prototype apps.  \n",
        "In a real-world setting, you or your data science collaborators could deploy similar apps to:\n",
        "- Let clinicians test models on their own examples.\n",
        "- Quickly gather feedback and iterate on model improvements.\n",
        "\n",
        "---\n"
      ],
      "metadata": {
        "id": "MyuZqyQDiSpu"
      }
    },
    {
      "cell_type": "markdown",
      "source": [
        "# Conclusion: Real-World Applications and Next Steps"
      ],
      "metadata": {
        "id": "nguB-TyPr_Ml"
      }
    },
    {
      "cell_type": "markdown",
      "source": [
        "---\n",
        "\n",
        "# Using NLP for Clinical Text: A Hands-On Tutorial\n",
        "\n",
        "### What We Covered\n",
        "- **Installation and Setup**:  \n",
        "  We installed a Transformers model and built a mini-application that identifies medical entities in text — all within a short session.\n",
        "\n",
        "- **Focus on Non-Generative AI**:  \n",
        "  We demonstrated how models that **extract or classify** information (rather than generating new text) can be highly useful in healthcare.\n",
        "\n",
        "---\n",
        "\n",
        "### Real-World Clinical Applications\n",
        "\n",
        "#### Information Extraction (Named Entity Recognition - NER)\n",
        "- **Practical Example**: Automatically scanning pathology reports or clinical notes to find mentions of diseases, medications, allergies, or symptoms.\n",
        "- **Benefits**:\n",
        "  - Populating fields in an electronic health record.\n",
        "  - Alerting physicians to key findings in long narratives.\n",
        "  - Saving time on manual data entry.\n",
        "\n",
        "#### Clinical Text Classification\n",
        "- **Practical Example**: Categorizing patient notes or messages by urgency or by topic (e.g., cancer vs. no cancer in radiology reports).\n",
        "- **In Pediatric Oncology**:  \n",
        "  Classifying notes based on disease type, complications, or routine check-ups.\n",
        "- **Benefits**:\n",
        "  - Organizing large volumes of documents (e.g., discharge summaries, emails).\n",
        "  - Supporting faster and more informed decision-making.\n",
        "\n",
        "#### Embeddings and Semantic Search\n",
        "- **Concept**:  \n",
        "  Transformer models can create embeddings — numerical representations capturing the meaning of clinical text.\n",
        "- **Practical Uses**:\n",
        "  - Find similar past cases or research articles by meaning, not just keywords.\n",
        "  - Enable case-based reasoning and smarter literature searches.\n",
        "\n",
        "#### Other Non-Generative Applications\n",
        "- **Predictive Models**: Predict outcomes like 30-day readmission risk based on discharge summaries.\n",
        "- **Clustering**: Group notes to reveal hidden patterns (e.g., symptom clusters).\n",
        "- **Entity Linking**: Map extracted terms to standardized codes like ICD or medical ontologies.\n",
        "\n",
        "---\n",
        "\n",
        "### Collaboration Is Key\n",
        "- **Clinician Expertise**:  \n",
        "  You know what problems need solving and can validate model outputs for clinical relevance.\n",
        "\n",
        "- **Rapid Prototyping**:  \n",
        "  In this session, we went from idea to working demo in one notebook — illustrating the power of quick iteration in clinical environments.\n",
        "\n",
        "- **Interdisciplinary Teams**:  \n",
        "  Many hospitals are forming clinician-data scientist teams to build AI prototypes for clinical documentation, decision support, and more.\n",
        "\n",
        "---\n",
        "\n",
        "### Next Steps\n",
        "- **Fine-tuning**:  \n",
        "  Try adapting a model to your institution's jargon with help from a data scientist.\n",
        "\n",
        "- **Explore Other NLP Tasks**:  \n",
        "  Look into medical question answering or summarizing long clinical reports.\n",
        "\n",
        "- **Model Evaluation**:  \n",
        "  Learn how to assess model performance rigorously (accuracy, errors) to meet healthcare standards.\n",
        "\n",
        "---\n",
        "\n",
        "### Final Thoughts\n",
        "Modern NLP tools are accessible even for those new to coding. With practice, you can start prototyping AI solutions that solve real-world clinical challenges, particularly in pediatric oncology and beyond.\n",
        "\n",
        "**Happy experimenting!**\n",
        "\n",
        "---\n",
        "\n"
      ],
      "metadata": {
        "id": "PozyXY4Nscgg"
      }
    },
    {
      "cell_type": "markdown",
      "source": [
        "Let us try to modify the code above:  not only highlight the text identified by NER but color code it according to its category."
      ],
      "metadata": {
        "id": "ClDOVqC6iS0l"
      }
    },
    {
      "cell_type": "code",
      "source": [
        "# prompt: Let us try to modify the code : not only highlight the text identified by NER but color code it according to its category.\n",
        "# Cover all entities and provide color coding legend on the bottom\n",
        "# We can see the model found entities like \"7-year-old\" (categorized as Age), \"acute lymphoblastic leukemia\" (Dis\n",
        "# %%writefile app.py\n",
        "# import streamlit as st\n",
        "# from transformers import pipeline\n",
        "# # Load the same NER pipeline inside the app (this will use the model we downloaded)\n",
        "# ner_pipeline = pipeline(\"ner\", model=\"d4data/biomedical-ner-all\", aggregation_strategy=\"simple\")\n",
        "# # Streamlit UI layout\n",
        "# st.title(\"Clinical NER Demo\")\n",
        "# st.markdown(\"Enter a synthetic clinical note and **extract entities** using a pretrained Transformer model:\")\n",
        "# # A text area for input\n",
        "# default_text = (\"Patient is a 7-year-old boy with acute lymphoblastic leukemia (ALL) who presents with \"\n",
        "#                 \"a two-week history of fever, bone pain, and fatigue. On exam, noted pallor and bruising. \"\n",
        "#                 \"Plan is to start induction chemotherapy with vincristine, prednisone, and L-asparaginase.\")\n",
        "# user_input = st.text_area(\"Clinical Note\", default_text, height=150)\n",
        "# # Button to run NER\n",
        "# if st.button(\"Extract Entities\"):\n",
        "#     # Run the NER pipeline on the input text\n",
        "#     entities = ner_pipeline(user_input)\n",
        "#     # Highlight the entities in the text by wrapping them with HTML <mark> tag\n",
        "#     highlighted_text = user_input\n",
        "#     # Insert the highlight tags in reverse order of indices (to not mess up positions as we insert)\n",
        "#     for ent in sorted(entities, key=lambda x: x['start'], reverse=True):\n",
        "#         start, end = ent['start'], ent['end']\n",
        "#         highlighted_text = (highlighted_text[:start]\n",
        "#                              + f\"<mark>{highlighted_text[start:end]}</mark>\"\n",
        "#                              + highlighted_text[end:])\n",
        "#     # Display the highlighted text. 'unsafe_allow_html=True' lets us render the <mark> tags.\n",
        "#     st.write(\"**Extracted Entities Highlighted:**\")\n",
        "#     st.markdown(highlighted_text, unsafe_allow_html=True)\n",
        "\n",
        "%%writefile app.py\n",
        "import streamlit as st\n",
        "from transformers import pipeline\n",
        "\n",
        "# Load the same NER pipeline inside the app\n",
        "ner_pipeline = pipeline(\"ner\", model=\"d4data/biomedical-ner-all\", aggregation_strategy=\"simple\")\n",
        "\n",
        "# Streamlit UI layout\n",
        "st.title(\"Clinical NER Demo with Color Coding\")\n",
        "st.markdown(\"Enter a synthetic clinical note and **extract entities** using a pretrained Transformer model:\")\n",
        "\n",
        "# A text area for input\n",
        "default_text = (\"Patient is a 7-year-old boy with acute lymphoblastic leukemia (ALL) who presents with \"\n",
        "                \"a two-week history of fever, bone pain, and fatigue. On exam, noted pallor and bruising. \"\n",
        "                \"Plan is to start induction chemotherapy with vincristine, prednisone, and L-asparaginase.\")\n",
        "user_input = st.text_area(\"Clinical Note\", default_text, height=150)\n",
        "\n",
        "# Button to run NER\n",
        "if st.button(\"Extract Entities\"):\n",
        "    # Run the NER pipeline on the input text\n",
        "    entities = ner_pipeline(user_input)\n",
        "\n",
        "    # Color mapping for entity categories\n",
        "    color_map = {\n",
        "        \"Age\": \"lightblue\",\n",
        "        \"Disease\": \"lightcoral\",\n",
        "        \"Symptom\": \"lightgreen\",\n",
        "        \"Treatment\": \"lightsalmon\",\n",
        "        \"Medication\": \"lightgoldenrodyellow\",\n",
        "        \"Finding\": \"lightcyan\", # Example for \"pallor\" and \"bruising\"\n",
        "        # Add more categories and colors as needed\n",
        "    }\n",
        "\n",
        "    highlighted_text = user_input\n",
        "    for ent in sorted(entities, key=lambda x: x['start'], reverse=True):\n",
        "        start, end = ent['start'], ent['end']\n",
        "        entity_type = ent['entity_group']\n",
        "        color = color_map.get(entity_type, \"yellow\")  # Default to yellow if category not in map\n",
        "        highlighted_text = (highlighted_text[:start] +\n",
        "                             f\"<mark style='background-color:{color}'>{highlighted_text[start:end]}</mark>\" +\n",
        "                             highlighted_text[end:])\n",
        "\n",
        "    st.write(\"**Extracted Entities Highlighted:**\")\n",
        "    st.markdown(highlighted_text, unsafe_allow_html=True)\n",
        "\n",
        "    # Display color coding legend\n",
        "    st.write(\"**Color Coding Legend:**\")\n",
        "    for entity_type, color in color_map.items():\n",
        "        st.markdown(f\"<span style='background-color:{color}; padding: 0.3em 0.5em; border-radius: 0.2em;'>{entity_type}</span>\", unsafe_allow_html=True)\n"
      ],
      "metadata": {
        "colab": {
          "base_uri": "https://localhost:8080/"
        },
        "id": "WQOBDaUbiS5P",
        "outputId": "f7d804e8-7d1a-4600-d51b-498c46f9af6d"
      },
      "execution_count": null,
      "outputs": [
        {
          "output_type": "stream",
          "name": "stdout",
          "text": [
            "Overwriting app.py\n"
          ]
        }
      ]
    },
    {
      "cell_type": "code",
      "source": [
        "!curl https://loca.lt/mytunnelpassword"
      ],
      "metadata": {
        "id": "jX-jJChQvLTy"
      },
      "execution_count": null,
      "outputs": []
    },
    {
      "cell_type": "code",
      "source": [
        "!streamlit run app.py & npx localtunnel --port 8501"
      ],
      "metadata": {
        "id": "J-4sLS6YiTCI"
      },
      "execution_count": null,
      "outputs": []
    }
  ]
}