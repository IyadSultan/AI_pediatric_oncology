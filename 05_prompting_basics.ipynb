{
  "nbformat": 4,
  "nbformat_minor": 0,
  "metadata": {
    "colab": {
      "provenance": [],
      "authorship_tag": "ABX9TyP7cMGNtU/vEfQK0pCLssBa",
      "include_colab_link": true
    },
    "kernelspec": {
      "name": "python3",
      "display_name": "Python 3"
    },
    "language_info": {
      "name": "python"
    }
  },
  "cells": [
    {
      "cell_type": "markdown",
      "metadata": {
        "id": "view-in-github",
        "colab_type": "text"
      },
      "source": [
        "<a href=\"https://colab.research.google.com/github/IyadSultan/AI_pediatric_oncology/blob/main/05_prompting_basics.ipynb\" target=\"_parent\"><img src=\"https://colab.research.google.com/assets/colab-badge.svg\" alt=\"Open In Colab\"/></a>"
      ]
    },
    {
      "cell_type": "markdown",
      "source": [
        "# 🩺 Open in Colab → Prompting the OpenAI API — Better, Faster, Safer\n",
        "\n",
        "A 40-minute, cut-to-the-chase notebook for beginner-to-intermediate users.\n",
        "\n",
        "---\n",
        "\n",
        "## ⏱️ Agenda\n",
        "\n",
        "| Section | Time | What you’ll master |\n",
        "|:-------:|:----:|:------------------:|\n",
        "| 1 | 3 min | Setup & first call |\n",
        "| 2 | 5 min | Counting tokens (why cost ≠ mystery) |\n",
        "| 3 | 18 min | Six prompting techniques |\n",
        "| 4 | 6 min | Tuning parameters (temperature, top-p, etc.) |\n",
        "| 5 | 6 min | Debugging & auto-fixing bad JSON |\n",
        "| 6 | 2 min | Next-level ideas & homework |\n",
        "\n",
        "*(Copy each cell verbatim into Colab → run top-to-bottom.)*\n",
        "\n",
        "---\n",
        "\n",
        "## 1 | Setup & “Hello GPT-4o” (3 min)\n",
        "\n",
        "**Install packages:**"
      ],
      "metadata": {
        "id": "b5WPPzhkviXA"
      }
    },
    {
      "cell_type": "code",
      "source": [
        "!pip install -q openai tiktoken"
      ],
      "metadata": {
        "colab": {
          "base_uri": "https://localhost:8080/"
        },
        "id": "f2X9XaLdvkc4",
        "outputId": "dbc277f2-3f10-47c4-a91f-79711ae26a80"
      },
      "execution_count": 2,
      "outputs": [
        {
          "output_type": "stream",
          "name": "stdout",
          "text": [
            "\u001b[?25l   \u001b[90m━━━━━━━━━━━━━━━━━━━━━━━━━━━━━━━━━━━━━━━━\u001b[0m \u001b[32m0.0/1.2 MB\u001b[0m \u001b[31m?\u001b[0m eta \u001b[36m-:--:--\u001b[0m\r\u001b[2K   \u001b[91m━━━━━\u001b[0m\u001b[91m╸\u001b[0m\u001b[90m━━━━━━━━━━━━━━━━━━━━━━━━━━━━━━━━━━\u001b[0m \u001b[32m0.2/1.2 MB\u001b[0m \u001b[31m5.0 MB/s\u001b[0m eta \u001b[36m0:00:01\u001b[0m\r\u001b[2K   \u001b[91m━━━━━━━━━━━━━━━━━━━━━━━━━━━━━━━━━━━━━━━\u001b[0m\u001b[91m╸\u001b[0m \u001b[32m1.2/1.2 MB\u001b[0m \u001b[31m17.9 MB/s\u001b[0m eta \u001b[36m0:00:01\u001b[0m\r\u001b[2K   \u001b[90m━━━━━━━━━━━━━━━━━━━━━━━━━━━━━━━━━━━━━━━━\u001b[0m \u001b[32m1.2/1.2 MB\u001b[0m \u001b[31m14.3 MB/s\u001b[0m eta \u001b[36m0:00:00\u001b[0m\n",
            "\u001b[?25h"
          ]
        }
      ]
    },
    {
      "cell_type": "markdown",
      "source": [
        "**Import libraries and set up API key:**"
      ],
      "metadata": {
        "id": "FspzXgBkvqWo"
      }
    },
    {
      "cell_type": "code",
      "source": [
        "import os, getpass, openai\n",
        "os.environ[\"OPENAI_API_KEY\"] = getpass.getpass(\"🔑 Paste your OpenAI key:\")\n",
        "client = openai.OpenAI()   # key auto-read from env"
      ],
      "metadata": {
        "colab": {
          "base_uri": "https://localhost:8080/"
        },
        "id": "HMuAwTbhvues",
        "outputId": "7f8a661e-d9f2-4f61-c01a-6de1ffc5a037"
      },
      "execution_count": 3,
      "outputs": [
        {
          "name": "stdout",
          "output_type": "stream",
          "text": [
            "🔑 Paste your OpenAI key:··········\n"
          ]
        }
      ]
    },
    {
      "cell_type": "code",
      "source": [
        "resp = client.chat.completions.create(\n",
        "    model=\"gpt-4o-mini\",\n",
        "    temperature=0,\n",
        "    messages=[{\"role\":\"user\",\"content\":\"Give me a 1-sentence health tip.\"}]\n",
        ")\n",
        "print(resp.choices[0].message.content)"
      ],
      "metadata": {
        "colab": {
          "base_uri": "https://localhost:8080/"
        },
        "id": "W3xhXG4Lv7Uw",
        "outputId": "c9faf331-83b7-4651-efa8-78b4a8c4037d"
      },
      "execution_count": 9,
      "outputs": [
        {
          "output_type": "stream",
          "name": "stdout",
          "text": [
            "Stay hydrated by drinking plenty of water throughout the day to support overall health and well-being.\n"
          ]
        }
      ]
    },
    {
      "cell_type": "markdown",
      "source": [
        "## 2 | Tokens = Time = Money (5 min)\n",
        "\n",
        "**Install `tiktoken` and explore tokenization:**"
      ],
      "metadata": {
        "id": "0u0xwiwxwEY3"
      }
    },
    {
      "cell_type": "code",
      "source": [
        "!pip install -q tiktoken\n",
        "import tiktoken, textwrap\n",
        "\n",
        "enc   = tiktoken.get_encoding(\"cl100k_base\")\n",
        "utter = \"I go to work every morning at 8 a.m. and get back at 5 p.m.\"\n",
        "ids   = enc.encode(utter)\n",
        "print(ids)                  # raw token ids\n",
        "print(\"→\", len(ids), \"tokens\")"
      ],
      "metadata": {
        "colab": {
          "base_uri": "https://localhost:8080/"
        },
        "id": "T4BlNIZBwJ_b",
        "outputId": "b7248cc5-4482-404a-b3ad-350267bd1144"
      },
      "execution_count": 10,
      "outputs": [
        {
          "output_type": "stream",
          "name": "stdout",
          "text": [
            "[40, 733, 311, 990, 1475, 6693, 520, 220, 23, 264, 749, 13, 323, 636, 1203, 520, 220, 20, 281, 749, 13]\n",
            "→ 21 tokens\n"
          ]
        }
      ]
    },
    {
      "cell_type": "markdown",
      "source": [
        "\n",
        "> **Rule of thumb:**  \n",
        "> 1 token ≈ ¾ English word.\n",
        "\n",
        "> **Tip:**  \n",
        "> Keep prompts short & reuse variables to save tokens → save money."
      ],
      "metadata": {
        "id": "bx5CxrA9wN5-"
      }
    },
    {
      "cell_type": "markdown",
      "source": [
        "## 3 | Six Prompting Styles (18 min)\n",
        "\n",
        "### 3.1 Zero-shot (prompt ≈ instruction)"
      ],
      "metadata": {
        "id": "5oj0FLaSwSNK"
      }
    },
    {
      "cell_type": "code",
      "source": [
        "prompt = \"Translate to French: 'How are you today?'\"\n",
        "msg    = [{\"role\":\"user\",\"content\": prompt}]\n",
        "print(client.chat.completions.create(model=\"gpt-4o-mini\", messages=msg)\n",
        "      .choices[0].message.content)"
      ],
      "metadata": {
        "colab": {
          "base_uri": "https://localhost:8080/"
        },
        "id": "P5m-FaztwViL",
        "outputId": "7f005750-62f6-4d4c-bcc7-ded1351d9e37"
      },
      "execution_count": 11,
      "outputs": [
        {
          "output_type": "stream",
          "name": "stdout",
          "text": [
            "The translation of \"How are you today?\" in French is \"Comment ça va aujourd'hui ?\" or simply \"Ça va aujourd'hui ?\" for a more casual tone.\n"
          ]
        }
      ]
    },
    {
      "cell_type": "markdown",
      "source": [
        "### 3.2 Few-shot (examples → clarity)\n"
      ],
      "metadata": {
        "id": "mJraZnFcwawI"
      }
    },
    {
      "cell_type": "code",
      "source": [
        "fewshot = \"\"\"\n",
        "Translate EN → FR\n",
        "1) Hello, how are you? -> Bonjour, comment ça va ?\n",
        "2) What is your name?  -> Comment vous appelez-vous ?\n",
        "3) I love programming. -> J'aime programmer.\n",
        "4) Have a great day.   ->\n",
        "\"\"\"\n",
        "print(client.chat.completions.create(model=\"gpt-4o-mini\",\n",
        "      messages=[{\"role\":\"user\",\"content\":fewshot}]).choices[0].message.content)"
      ],
      "metadata": {
        "colab": {
          "base_uri": "https://localhost:8080/"
        },
        "id": "0RALdofvwgyT",
        "outputId": "674f48cb-601a-4014-8c6d-2dcc15a1e4e2"
      },
      "execution_count": 12,
      "outputs": [
        {
          "output_type": "stream",
          "name": "stdout",
          "text": [
            "4) Have a great day. -> Passez une excellente journée.\n"
          ]
        }
      ]
    },
    {
      "cell_type": "markdown",
      "source": [
        "### 3.3 Chain-of-Thought (think step-by-step)"
      ],
      "metadata": {
        "id": "UZj6rgb_wkXj"
      }
    },
    {
      "cell_type": "code",
      "source": [
        "cot = \"\"\"Solve step-by-step:\n",
        "A train goes 60 mph. How far in 3 h?\n",
        "#### Reasoning:\"\"\"\n",
        "print(client.chat.completions.create(model=\"gpt-4o-mini\",\n",
        "      messages=[{\"role\":\"user\",\"content\":cot}]).choices[0].message.content)"
      ],
      "metadata": {
        "colab": {
          "base_uri": "https://localhost:8080/"
        },
        "id": "HxWkfCfVwmNk",
        "outputId": "2f7c3973-cf9b-4ef0-83fa-5a0138283079"
      },
      "execution_count": 13,
      "outputs": [
        {
          "output_type": "stream",
          "name": "stdout",
          "text": [
            "To determine how far a train travels in a given period of time, you can use the formula for distance:\n",
            "\n",
            "\\[\n",
            "\\text{Distance} = \\text{Speed} \\times \\text{Time}\n",
            "\\]\n",
            "\n",
            "### Step 1: Identify the variables\n",
            "- Speed of the train = 60 mph (miles per hour)\n",
            "- Time = 3 hours\n",
            "\n",
            "### Step 2: Substitute the values into the formula\n",
            "Using the formula we identified, we substitute the speed and time:\n",
            "\n",
            "\\[\n",
            "\\text{Distance} = 60 \\text{ mph} \\times 3 \\text{ h}\n",
            "\\]\n",
            "\n",
            "### Step 3: Perform the multiplication\n",
            "Now, we multiply 60 by 3:\n",
            "\n",
            "\\[\n",
            "\\text{Distance} = 180 \\text{ miles}\n",
            "\\]\n",
            "\n",
            "### Conclusion\n",
            "The train travels **180 miles** in 3 hours.\n"
          ]
        }
      ]
    },
    {
      "cell_type": "markdown",
      "source": [
        "\n",
        "### 3.4 Instruction-based (clarity first)"
      ],
      "metadata": {
        "id": "FjRk48_1wsLT"
      }
    },
    {
      "cell_type": "code",
      "source": [
        "instr = (\"You are a helpful assistant. Rewrite professionally:\\n\"\n",
        "         \"'Can you send me the details ASAP?'\")\n",
        "print(client.chat.completions.create(model=\"gpt-4o-mini\",\n",
        "      messages=[{\"role\":\"user\",\"content\":instr}]).choices[0].message.content)"
      ],
      "metadata": {
        "colab": {
          "base_uri": "https://localhost:8080/"
        },
        "id": "Qg8z4MDmw2Ue",
        "outputId": "bc69ed37-2b9c-474f-c72d-20b4fe8c43e4"
      },
      "execution_count": 14,
      "outputs": [
        {
          "output_type": "stream",
          "name": "stdout",
          "text": [
            "Could you please send me the details at your earliest convenience? Thank you.\n"
          ]
        }
      ]
    },
    {
      "cell_type": "markdown",
      "source": [
        "### 3.5 Role-play (domain voice)"
      ],
      "metadata": {
        "id": "U5zmQ8VIw7iQ"
      }
    },
    {
      "cell_type": "code",
      "source": [
        "role_prompt = \"Suggest a 3-day low-impact workout plan.\"\n",
        "print(client.chat.completions.create(\n",
        "      model=\"gpt-4o-mini\",\n",
        "      messages=[{\"role\":\"system\",\"content\":\"You are a certified physiotherapist.\"},\n",
        "                {\"role\":\"user\",\"content\":role_prompt}]\n",
        ").choices[0].message.content)"
      ],
      "metadata": {
        "colab": {
          "base_uri": "https://localhost:8080/"
        },
        "id": "BFniMEn-w7Hl",
        "outputId": "257e0924-1b67-4a64-8782-03455c45f276"
      },
      "execution_count": 15,
      "outputs": [
        {
          "output_type": "stream",
          "name": "stdout",
          "text": [
            "Here's a 3-day low-impact workout plan that focuses on improving strength, flexibility, and cardiovascular fitness. Each session includes a warm-up, a main workout, and a cooldown/stretch segment.\n",
            "\n",
            "### Day 1: Full Body Strength & Mobility\n",
            "\n",
            "**Warm-Up (5-10 minutes)**\n",
            "- Arm circles (1 minute)\n",
            "- Leg swings (front to back and side to side, 1 minute each leg)\n",
            "- Gentle torso twists (1 minute)\n",
            "\n",
            "**Main Workout (30-40 minutes)**  \n",
            "Repeat 2-3 times, resting 60 seconds between sets.\n",
            "1. **Bodyweight Squats** - 10-15 reps\n",
            "2. **Wall Push-Ups** - 8-12 reps\n",
            "3. **Seated Leg Raises** - 10-15 reps each leg\n",
            "4. **Glute Bridges** - 10-15 reps\n",
            "5. **Seated Rows with Resistance Band** - 10-15 reps\n",
            "6. **Standing Heel Raises** - 10-15 reps\n",
            "\n",
            "**Cooldown/Stretch (5-10 minutes)**\n",
            "- Child’s pose (30 seconds)\n",
            "- Seated forward bend (30 seconds)\n",
            "- Standing quad stretch (30 seconds each leg)\n",
            "- Gentle neck stretches (side-to-side holding each for 15-30 seconds)\n",
            "\n",
            "---\n",
            "\n",
            "### Day 2: Cardiovascular & Core Stability\n",
            "\n",
            "**Warm-Up (5-10 minutes)**\n",
            "- Marching in place (2 minutes)\n",
            "- Shoulder rolls (1 minute)\n",
            "- Side leg swings (1 minute each side)\n",
            "\n",
            "**Main Workout (30-40 minutes)**\n",
            "1. **Brisk Walking or Cycling (Stationary Bike)** - 20-30 minutes at a moderate pace\n",
            "2. **Seated Russian Twists** - 10-15 reps each side (without weights or light weight)\n",
            "3. **Standing Side Leg Lifts** - 10-15 reps each leg\n",
            "4. **Bird Dog** - 5-10 reps each side\n",
            "5. **Plank on Knees** - Hold for 20-30 seconds\n",
            "\n",
            "**Cooldown/Stretch (5-10 minutes)**\n",
            "- Seated side stretch (30 seconds each side)\n",
            "- Cat-Cow stretch (1 minute)\n",
            "- Standing forward bend (30 seconds)\n",
            "- Ankle and wrist circles (1 minute)\n",
            "\n",
            "---\n",
            "\n",
            "### Day 3: Flexibility & Balance\n",
            "\n",
            "**Warm-Up (5-10 minutes)**\n",
            "- Gentle marching (2 minutes)\n",
            "- Ankle circles (1 minute each ankle)\n",
            "- Dynamic side lunges (1 minute)\n",
            "\n",
            "**Main Workout (30-40 minutes)**\n",
            "1. **Chair Yoga (or seated yoga poses)** \n",
            "   - Seated mountain pose (1 minute)\n",
            "   - Seated cat cow (1 minute)\n",
            "   - Seated pigeon pose (30 seconds each side)\n",
            "  \n",
            "2. **Balance Exercises**  \n",
            "   - Single-leg balance (30 seconds each leg)  \n",
            "   - Heel-to-toe walk (5-10 steps forward and back)\n",
            "\n",
            "3. **Retraining Core Exercises**\n",
            "   - Standing pelvic tilts (1 minute)\n",
            "   - Side-lying hip abduction (10-15 reps per side)\n",
            "\n",
            "**Cooldown/Stretch (5-10 minutes)**\n",
            "- Relaxing arms overhead stretch (30 seconds)\n",
            "- Supine figure-four stretch (30 seconds each side)\n",
            "- Deep breathing (1-2 minutes)\n",
            "\n",
            "### Additional Tips:\n",
            "- Stay hydrated throughout your workouts.\n",
            "- Adjust repetitions and sets to fit your fitness level.\n",
            "- If you have any injuries or conditions, consult a healthcare provider before starting a new workout program.\n",
            "- Focus on slow and controlled movements to maximize effectiveness and reduce injury risk.\n",
            "\n",
            "Enjoy your workout journey!\n"
          ]
        }
      ]
    },
    {
      "cell_type": "markdown",
      "source": [
        "### 3.6 Few-shot + context (best of both)"
      ],
      "metadata": {
        "id": "9c5E3cxLxBSP"
      }
    },
    {
      "cell_type": "code",
      "source": [
        "combo = (\"You are a language expert. Translate casually to Spanish:\\n\"\n",
        "         \"1) Where are you going? -> ¿Adónde vas?\\n\"\n",
        "         \"2) I'm just hanging out. -> Solo estoy pasando el rato.\\n\"\n",
        "         \"3) Let me know when you're free. ->\")\n",
        "print(client.chat.completions.create(model=\"gpt-4o-mini\",\n",
        "      messages=[{\"role\":\"user\",\"content\":combo}],\n",
        "      temperature=0.7, max_tokens=10).choices[0].message.content)"
      ],
      "metadata": {
        "colab": {
          "base_uri": "https://localhost:8080/"
        },
        "id": "VD6a7badxENQ",
        "outputId": "a757a5d3-4677-4564-f862-c9eb285e614e"
      },
      "execution_count": 16,
      "outputs": [
        {
          "output_type": "stream",
          "name": "stdout",
          "text": [
            "Déjame saber cuando estés libre.\n"
          ]
        }
      ]
    },
    {
      "cell_type": "markdown",
      "source": [
        "## 4 | Fine-tuning Parameters (6 min)\n"
      ],
      "metadata": {
        "id": "U20HCx6exIxK"
      }
    },
    {
      "cell_type": "markdown",
      "source": [
        "\n",
        "| Param | Why it matters |\n",
        "|:-----:|:--------------:|\n",
        "| temperature | 0 = deterministic, 1 = creative |\n",
        "| top_p | nucleus sampling (diversity) |\n",
        "| max_tokens | output length cap |\n",
        "| frequency / presence penalties | reduce repetition, encourage novelty |\n",
        "\n",
        "> **Mini-lab:**  \n",
        "> Re-run the translator with `temperature=1.0` and `top_p=0.3`.  \n",
        "> Collect 3 outputs — notice variability."
      ],
      "metadata": {
        "id": "rsSnQKNUxNSC"
      }
    },
    {
      "cell_type": "markdown",
      "source": [
        "## 5 | Debugging & Auto-Fixing JSON (6 min)\n",
        "\n",
        "### 5.1 Ask for JSON"
      ],
      "metadata": {
        "id": "T4iobVnqxTqT"
      }
    },
    {
      "cell_type": "code",
      "source": [
        "ask = (\"Return valid JSON with key 'translation'.\\n\"\n",
        "       \"Text: Hello!\")\n",
        "resp = client.chat.completions.create(\n",
        "    model=\"gpt-4o-mini\", messages=[{\"role\":\"user\",\"content\":ask}])\n",
        "print(resp.choices[0].message.content)"
      ],
      "metadata": {
        "id": "dY3UkAt5xXG3"
      },
      "execution_count": null,
      "outputs": []
    },
    {
      "cell_type": "markdown",
      "source": [
        "**Sometimes the model fails (extra commentary). Let’s validate and auto-fix:**"
      ],
      "metadata": {
        "id": "xIHFbH-IxcBt"
      }
    },
    {
      "cell_type": "code",
      "source": [
        "import json, langchain.output_parsers.fix as fix\n",
        "from langchain_core.output_parsers import JsonOutputParser\n",
        "\n",
        "parser  = JsonOutputParser()\n",
        "fixer   = fix.OutputFixingParser.from_llm(parser=parser, llm=None)  # self-heal via GPT\n",
        "\n",
        "def safe_parse(txt):\n",
        "    try:\n",
        "        return parser.parse(txt)\n",
        "    except Exception:\n",
        "        return fixer.parse(txt)\n",
        "\n",
        "print(safe_parse(resp.choices[0].message.content))"
      ],
      "metadata": {
        "id": "fn-7H5xLxfbj"
      },
      "execution_count": null,
      "outputs": []
    },
    {
      "cell_type": "markdown",
      "source": [
        "## 6 | Next-Level Ideas & Homework (2 min)\n",
        "\n",
        "🚀 **Where to go from here:**\n",
        "\n",
        "- **LangChain** for robust apps (prompt templates, memory, RAG).\n",
        "- **LangGraph** for multi-step triage or care-path flows.\n",
        "- **LangSmith** for logging, eval & prompt A/B testing.\n",
        "\n",
        "📝 **Homework:**\n",
        "\n",
        "Using the melanoma case note below, build a PubMed search tool (e.g., using E-utilities API) that fetches the five newest papers on late-line melanoma therapies and asks GPT-4o to summarize which option fits the patient best."
      ],
      "metadata": {
        "id": "VnNzq4PRxkhj"
      }
    },
    {
      "cell_type": "markdown",
      "source": [],
      "metadata": {
        "id": "mSGa5OIrvZHq"
      }
    }
  ]
}