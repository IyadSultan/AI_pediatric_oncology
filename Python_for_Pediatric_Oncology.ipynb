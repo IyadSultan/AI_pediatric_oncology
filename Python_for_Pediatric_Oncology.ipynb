{
  "nbformat": 4,
  "nbformat_minor": 0,
  "metadata": {
    "colab": {
      "provenance": [],
      "toc_visible": true,
      "authorship_tag": "ABX9TyOqGhn7P1NqUte4MKvE6B04",
      "include_colab_link": true
    },
    "kernelspec": {
      "name": "python3",
      "display_name": "Python 3"
    },
    "language_info": {
      "name": "python"
    }
  },
  "cells": [
    {
      "cell_type": "markdown",
      "metadata": {
        "id": "view-in-github",
        "colab_type": "text"
      },
      "source": [
        "<a href=\"https://colab.research.google.com/github/IyadSultan/educational/blob/main/Python_for_Pediatric_Oncology.ipynb\" target=\"_parent\"><img src=\"https://colab.research.google.com/assets/colab-badge.svg\" alt=\"Open In Colab\"/></a>"
      ]
    },
    {
      "cell_type": "markdown",
      "source": [
        "# Python for Pediatric Oncology: Introductory Coding Workshop"
      ],
      "metadata": {
        "id": "ubtNZLjkaWL8"
      }
    },
    {
      "cell_type": "markdown",
      "source": [
        "# Variables\n",
        "Variables are like labeled containers for information. In medicine, you might put a patient’s age in one field, weight in another – in Python, you’d store these values in variables. A variable has a name and holds some value (number, text, etc.). You can then use that name to retrieve or change the value. For example, let's create a variable for a patient's age and another for their name:"
      ],
      "metadata": {
        "id": "oAPJLrvtaWAE"
      }
    },
    {
      "cell_type": "code",
      "source": [
        "# Storing patient info in variables\n",
        "patient_name = \"Alice\"\n",
        "patient_age = 7\n",
        "print(\"Patient name:\", patient_name)\n",
        "print(\"Patient age:\", patient_age)\n"
      ],
      "metadata": {
        "id": "3Ng0j4L1aVoL"
      },
      "execution_count": null,
      "outputs": []
    },
    {
      "cell_type": "markdown",
      "source": [
        "## Data types\n",
        "Python has several basic data types:\n",
        "Integers (int) for whole numbers (e.g., 7 for age).\n",
        "Floats for decimals (e.g., 7.5 for weight in kg perhaps).\n",
        "Strings (str) for text (e.g., \"Alice\" for a name or \"Stage I\" for a disease stage).\n",
        "Booleans (bool) for True/False values (e.g., True for has fever, False for no fever)."
      ],
      "metadata": {
        "id": "C_Mg8CvMcSAZ"
      }
    },
    {
      "cell_type": "markdown",
      "source": [
        "### Lists"
      ],
      "metadata": {
        "id": "IeDa0jK8a2jp"
      }
    },
    {
      "cell_type": "markdown",
      "source": [],
      "metadata": {
        "id": "CHvcX8oVanAj"
      }
    },
    {
      "cell_type": "code",
      "execution_count": null,
      "metadata": {
        "id": "NSLsx672YkJZ"
      },
      "outputs": [],
      "source": [
        "patient_names = [\"Alice\", \"Bob\", \"Charlie\"]\n",
        "temperatures = [36.6, 38.0, 39.4]  # in °C\n",
        "print(patient_names)\n",
        "print(\"First patient:\", patient_names[0])\n"
      ]
    },
    {
      "cell_type": "markdown",
      "source": [
        "This creates a list of three names and a list of three temperature readings. patient_names[0] accesses the first element (\"Alice\") since indexing starts at 0 in Python. Lists are super useful to hold multiple related items (like records in a cohort).\n",
        "\n",
        "Analogy: Think of a variable as a labeled jar where you can put a piece of data. You might have a jar labeled \"Age\" containing the number 7. You can open it and replace it with 8 later. A list is like a pill organizer with multiple slots – each slot can hold a value, and you can access each by its position."
      ],
      "metadata": {
        "id": "jAwzLE5Yj6nd"
      }
    },
    {
      "cell_type": "markdown",
      "source": [
        "### Exercise 1\n",
        "Generate a list of 10 random numbers (between 1 and 6) and print the first and last number"
      ],
      "metadata": {
        "id": "hg7A9FxMbAYI"
      }
    },
    {
      "cell_type": "code",
      "source": [],
      "metadata": {
        "id": "wLesG6VrdgK7"
      },
      "execution_count": null,
      "outputs": []
    },
    {
      "cell_type": "markdown",
      "source": [
        "Make a variable hospital_name for your hospital and print it."
      ],
      "metadata": {
        "id": "-idMM879kCfP"
      }
    },
    {
      "cell_type": "code",
      "source": [
        "# prompt: Make a variable hospital_name and give it a value of \"KHCC\"\n",
        "\n",
        "import random\n",
        "\n",
        "# Generate a list of 10 random numbers between 1 and 6\n",
        "random_numbers = [random.randint(1, 6) for _ in range(10)]\n",
        "\n",
        "# Print the first and last numbers\n",
        "print(\"First number:\", random_numbers[0])\n",
        "print(\"Last number:\", random_numbers[-1])\n",
        "\n",
        "# Make a variable hospital_name and give it a value of \"KHCC\"\n",
        "hospital_name = \"KHCC\"\n",
        "print(\"Hospital Name:\", hospital_name)\n"
      ],
      "metadata": {
        "id": "uYwSN7iFkDaD"
      },
      "execution_count": null,
      "outputs": []
    },
    {
      "cell_type": "markdown",
      "source": [
        "Create a list ward_numbers with some ward/floor numbers and try printing the second item (index 1)."
      ],
      "metadata": {
        "id": "EPlnbJchkE_0"
      }
    },
    {
      "cell_type": "code",
      "source": [
        "# prompt: Create a list ward_numbers with some ward/floor numbers and try printing the second item (index 1).\n",
        "\n",
        "ward_numbers = [101, 202, 303, 404]\n",
        "print(\"Second ward/floor number:\", ward_numbers[1])\n"
      ],
      "metadata": {
        "colab": {
          "base_uri": "https://localhost:8080/"
        },
        "id": "zBpnFHdYkFhL",
        "outputId": "2f8293c3-f621-43a1-c2f3-5486bf014ff9"
      },
      "execution_count": 3,
      "outputs": [
        {
          "output_type": "stream",
          "name": "stdout",
          "text": [
            "Second ward/floor number: 202\n"
          ]
        }
      ]
    },
    {
      "cell_type": "markdown",
      "source": [
        "Change one element in your list (e.g., update a ward number) and print the list again to see the change."
      ],
      "metadata": {
        "id": "OL7YS1_5dgiJ"
      }
    },
    {
      "cell_type": "code",
      "source": [
        "# prompt: Change one element in your list by changing the first element to 102 and print the list again to see the change.\n",
        "\n",
        "ward_numbers[0] = 102\n",
        "ward_numbers\n"
      ],
      "metadata": {
        "colab": {
          "base_uri": "https://localhost:8080/"
        },
        "id": "yHA6xjK8kQRW",
        "outputId": "c13439d0-ca2b-472f-d470-95adef512853"
      },
      "execution_count": 4,
      "outputs": [
        {
          "output_type": "execute_result",
          "data": {
            "text/plain": [
              "[102, 202, 303, 404]"
            ]
          },
          "metadata": {},
          "execution_count": 4
        }
      ]
    },
    {
      "cell_type": "markdown",
      "source": [
        "# Loops and Conditional Logic"
      ],
      "metadata": {
        "id": "7zZXf3wRk8nI"
      }
    },
    {
      "cell_type": "markdown",
      "source": [
        "## Loops\n",
        "In programming, loops let us repeat actions easily, and conditional statements (if/else) let us make choices based on data. These are like the bread and butter of automating tasks. For Loops: A for-loop allows you to iterate over a sequence (like each item in a list) and do something with each item. Imagine doing morning rounds for each patient in a list – that's a loop in action (repeating a procedure for each patient). Let's say we have a list of patient temperatures and we want to check each for fever:\n",
        "\n",
        "```\n",
        "# This is formatted as code\n",
        "```\n",
        "\n"
      ],
      "metadata": {
        "id": "2Nzw3i3JlEV9"
      }
    },
    {
      "cell_type": "code",
      "source": [
        "temperatures = [36.6, 38.0, 39.4]  # three patients' temperatures\n",
        "for temp in temperatures:\n",
        "    print(\"Current temp:\", temp)\n"
      ],
      "metadata": {
        "colab": {
          "base_uri": "https://localhost:8080/"
        },
        "id": "puP-aidilGTY",
        "outputId": "dcf22e2f-e5a0-4d3e-a679-2ada89215d1d"
      },
      "execution_count": 5,
      "outputs": [
        {
          "output_type": "stream",
          "name": "stdout",
          "text": [
            "Current temp: 36.6\n",
            "Current temp: 38.0\n",
            "Current temp: 39.4\n"
          ]
        }
      ]
    },
    {
      "cell_type": "markdown",
      "source": [
        "## If conditions\n",
        " Now, just printing isn't that useful – let's add a decision. We can use an if statement inside the loop to flag which temperatures indicate fever. In medicine, we might say >37.5°C is a fever. We can code that logic:\n"
      ],
      "metadata": {
        "id": "7rdtJJbTlPGP"
      }
    },
    {
      "cell_type": "code",
      "source": [
        "for temp in temperatures:\n",
        "    if temp > 37.5:\n",
        "        print(temp, \"-> High fever! 🔥\")\n",
        "    else:\n",
        "        print(temp, \"-> Normal\")\n"
      ],
      "metadata": {
        "colab": {
          "base_uri": "https://localhost:8080/"
        },
        "id": "UwYHv5DKlVTd",
        "outputId": "d7db7329-073a-41bf-8c16-bb32901faaef"
      },
      "execution_count": 6,
      "outputs": [
        {
          "output_type": "stream",
          "name": "stdout",
          "text": [
            "36.6 -> Normal\n",
            "38.0 -> High fever! 🔥\n",
            "39.4 -> High fever! 🔥\n"
          ]
        }
      ]
    },
    {
      "cell_type": "markdown",
      "source": [
        "We introduced an if/else:\n",
        "\n",
        "- If the condition temp > 37.5 is true, we execute the first block (print \"High fever! 🔥\").\n",
        "\n",
        "- Otherwise (else), we execute the second block (print \"Normal\").\n",
        "\n",
        "The 🔥 emoji is just for fun to highlight fevers.\n",
        "(Yes, you can include emojis in Python strings!) This small snippet combined a loop and a conditional check it went through each temperature and made a decision for each. You could imagine extending this: e.g., if fever, maybe alert the user or increment a counter of how many fevers were found, etc.\n",
        "\n",
        "*Analogy*: Loops are like doing the same test on every sample in a batch, or like a nurse checking each patient in a ward one by one. If/else statements are like triaging: if a patient is critical, send to ICU, else send them to a normal ward."
      ],
      "metadata": {
        "id": "rfI0I5PElkQe"
      }
    },
    {
      "cell_type": "markdown",
      "source": [
        "### Ecercise 2"
      ],
      "metadata": {
        "id": "Aly44m-FmCFh"
      }
    },
    {
      "cell_type": "markdown",
      "source": [
        "Add a new temperature to the list (e.g., 37.0) and re-run the loop. Does it correctly label it as normal?"
      ],
      "metadata": {
        "id": "nXoFtqvZmPF7"
      }
    },
    {
      "cell_type": "code",
      "source": [],
      "metadata": {
        "id": "vG84_AwFl-t_"
      },
      "execution_count": null,
      "outputs": []
    },
    {
      "cell_type": "markdown",
      "source": [
        "Change the fever threshold to 38.0 in the code (replace 37.5 with 38.0) and run again. Now 38.0°C would be considered normal (because it’s not greater than 38.0). This shows how a simple code change can adjust your logic."
      ],
      "metadata": {
        "id": "GZCYPfUQmDeg"
      }
    },
    {
      "cell_type": "code",
      "source": [],
      "metadata": {
        "id": "-gMr_AiPmDoG"
      },
      "execution_count": null,
      "outputs": []
    },
    {
      "cell_type": "markdown",
      "source": [
        "Extra: Create a list of blood pressure readings and write a loop to print which ones are above a certain threshold (you decide the threshold)."
      ],
      "metadata": {
        "id": "-NKmm5nhmDw3"
      }
    },
    {
      "cell_type": "code",
      "source": [
        "# prompt: Create a list of blood pressure readings (100/50, 60/40, 110/60) and write a loop to print which ones are above a certain threshold where mean arterial pressure < 50.\n",
        "\n",
        "blood_pressure_readings = [\"100/50\", \"60/40\", \"110/60\"]\n",
        "threshold = 50  # Mean Arterial Pressure threshold\n",
        "\n",
        "for reading in blood_pressure_readings:\n",
        "    systolic, diastolic = map(int, reading.split(\"/\"))\n",
        "    map_value = (1/3) * systolic + (2/3) * diastolic\n",
        "    if map_value < threshold:\n",
        "        print(f\"Blood pressure reading {reading} is below the threshold (MAP: {map_value})\")\n"
      ],
      "metadata": {
        "colab": {
          "base_uri": "https://localhost:8080/"
        },
        "id": "KW8eIGXNmD53",
        "outputId": "1b2f5f48-222b-4a81-91fd-fac8dce2f5c4"
      },
      "execution_count": 7,
      "outputs": [
        {
          "output_type": "stream",
          "name": "stdout",
          "text": [
            "Blood pressure reading 60/40 is below the threshold (MAP: 46.666666666666664)\n"
          ]
        }
      ]
    },
    {
      "cell_type": "markdown",
      "source": [],
      "metadata": {
        "id": "xc4VQvximEB3"
      }
    },
    {
      "cell_type": "markdown",
      "source": [
        "# Functions (Reusable Code Blocks)"
      ],
      "metadata": {
        "id": "u0Y7z699nC_y"
      }
    },
    {
      "cell_type": "markdown",
      "source": [
        "Functions are a way to package a set of instructions so you can reuse them with different inputs. Think of a function like a recipe or a medical protocol: you define it once, and then you can use it whenever needed, without rewriting all the steps. In Python, we define a function using the def keyword, give it a name, parameters (inputs) in parentheses, and a block of code. For example, let's define a simple function to categorize a Hodgkin lymphoma stage into \"Early-stage\" vs \"Advanced-stage\" disease:"
      ],
      "metadata": {
        "id": "YeC6GY4znZ8V"
      }
    },
    {
      "cell_type": "code",
      "source": [
        "def classify_stage(stage):\n",
        "    if stage <= 2:\n",
        "        return \"Early-stage\"\n",
        "    else:\n",
        "        return \"Advanced-stage\"\n"
      ],
      "metadata": {
        "id": "veGe16l1nZBE"
      },
      "execution_count": 9,
      "outputs": []
    },
    {
      "cell_type": "markdown",
      "source": [
        "This function classify_stage takes one input (stage). Inside, it uses an if/else to decide the return value. If stage is 1 or 2, it returns \"Early-stage\"; if 3 or 4, it returns \"Advanced-stage\". Notice the indentation – Python uses indentation (spaces) to define blocks of code under the function and under the if/else. Colab will help by auto-indenting after you type a : and press Enter."
      ],
      "metadata": {
        "id": "6Y6miryGnfQK"
      }
    },
    {
      "cell_type": "code",
      "source": [
        "print(classify_stage(1))  # Stage I -> expected \"Early-stage\"\n",
        "print(classify_stage(4))  # Stage IV -> expected \"Advanced-stage\"\n"
      ],
      "metadata": {
        "colab": {
          "base_uri": "https://localhost:8080/"
        },
        "id": "LS_YCgkpngF_",
        "outputId": "fe71183e-32d4-4b9e-8cd5-b4690ea62d6e"
      },
      "execution_count": 10,
      "outputs": [
        {
          "output_type": "stream",
          "name": "stdout",
          "text": [
            "Early-stage\n",
            "Advanced-stage\n"
          ]
        }
      ]
    },
    {
      "cell_type": "markdown",
      "source": [
        "We can call classify_stage for any stage number now, and it will consistently apply the rule we wrote. Functions can have multiple parameters as well. For instance, you might have a function to calculate Body Mass Index:"
      ],
      "metadata": {
        "id": "Vlrs2GMInnmZ"
      }
    },
    {
      "cell_type": "code",
      "source": [
        "def calculate_bmi(weight_kg, height_m):\n",
        "    bmi = weight_kg / (height_m ** 2)\n",
        "    return bmi\n",
        "\n",
        "print(calculate_bmi(50, 1.6))  # 50 kg, 1.6 m height\n"
      ],
      "metadata": {
        "colab": {
          "base_uri": "https://localhost:8080/"
        },
        "id": "ZrKE65junq41",
        "outputId": "6e50197e-1257-4a4b-e0df-b3b0d8a6228e"
      },
      "execution_count": 11,
      "outputs": [
        {
          "output_type": "stream",
          "name": "stdout",
          "text": [
            "19.531249999999996\n"
          ]
        }
      ]
    },
    {
      "cell_type": "markdown",
      "source": [
        "This would output a BMI value (around 19.5 for those numbers). The details of BMI aren't central here, but it shows how a function can take inputs and produce an output (using return). The return statement hands back the result to wherever the function was called.\n",
        "\n",
        "*Analogy*: A function is like a diagnostic test – you provide a sample (input), and it gives you a result (output) after processing. Once a test is developed, any patient sample can go through it to get a result, without redesigning the test each time. By organizing code into functions, you make it more modular and readable. If you have a complex calculation you'll do often, define it as a function and then your main code becomes much cleaner (“just call the function”)."
      ],
      "metadata": {
        "id": "sNCTj1RIn6Hi"
      }
    },
    {
      "cell_type": "markdown",
      "source": [
        "### Exercise 3"
      ],
      "metadata": {
        "id": "RJUKyDWEoGQT"
      }
    },
    {
      "cell_type": "markdown",
      "source": [
        "Define a function greet_doctor(name) that takes a name and returns a greeting like \"Hello Dr. <name>, welcome!\""
      ],
      "metadata": {
        "id": "9cyly7SBoGq0"
      }
    },
    {
      "cell_type": "code",
      "source": [],
      "metadata": {
        "id": "94GJSFuXoHXB"
      },
      "execution_count": null,
      "outputs": []
    },
    {
      "cell_type": "markdown",
      "source": [
        "Test your function by calling it with a few different names."
      ],
      "metadata": {
        "id": "wAF6kvq0oHgA"
      }
    },
    {
      "cell_type": "code",
      "source": [],
      "metadata": {
        "id": "Z2QnHSNDoHnl"
      },
      "execution_count": null,
      "outputs": []
    },
    {
      "cell_type": "markdown",
      "source": [
        "Modify the classify_stage function to handle an edge case: if stage is 0 or not 1-4, have it return \"Unknown stage\" (hint: use an if before the others to check if stage not in [1,2,3,4])."
      ],
      "metadata": {
        "id": "s-SPZaCmoHvv"
      }
    },
    {
      "cell_type": "code",
      "source": [],
      "metadata": {
        "id": "qdKCmJV1oH24"
      },
      "execution_count": null,
      "outputs": []
    },
    {
      "cell_type": "markdown",
      "source": [
        "# Using Libraries (Importing Modules)"
      ],
      "metadata": {
        "id": "y7NQG5gKoH_U"
      }
    },
    {
      "cell_type": "markdown",
      "source": [
        "One of Python’s superpowers is its rich ecosystem of libraries (also called modules or packages). Libraries are like add-on toolkits that provide extra functions and capabilities. For example, there are libraries for scientific computing, for making plots, for machine learning, and much more. We'll use some libraries later for data analysis (like pandas and matplotlib)."
      ],
      "metadata": {
        "id": "FX226mFvofOY"
      }
    },
    {
      "cell_type": "markdown",
      "source": [
        "To use a library, you first import it. Python has many built-in libraries (like math, datetime, etc.), and thousands of external ones you can install. In Colab, many common libraries (numpy, pandas, matplotlib, etc.) are pre-installed."
      ],
      "metadata": {
        "id": "t_P6GtQeofHz"
      }
    },
    {
      "cell_type": "markdown",
      "source": [
        "Let's see a quick example with the built-in math library:"
      ],
      "metadata": {
        "id": "xJmxTaLdofBE"
      }
    },
    {
      "cell_type": "code",
      "source": [
        "import math\n",
        "value = math.sqrt(16)\n",
        "print(\"Square root of 16 is:\", value)"
      ],
      "metadata": {
        "id": "IWt38_1fpB8H"
      },
      "execution_count": null,
      "outputs": []
    },
    {
      "cell_type": "code",
      "source": [
        "from math import sqrt\n",
        "value = sqrt(16)\n",
        "print(\"Square root of 16 is:\", value)\n"
      ],
      "metadata": {
        "colab": {
          "base_uri": "https://localhost:8080/"
        },
        "id": "TnwAn5tHolOl",
        "outputId": "bfe9041e-8929-4ccc-9bcc-fb90299feda8"
      },
      "execution_count": 16,
      "outputs": [
        {
          "output_type": "stream",
          "name": "stdout",
          "text": [
            "Square root of 16 is: 4.0\n",
            "Square root of 16 is: 4.0\n"
          ]
        }
      ]
    },
    {
      "cell_type": "markdown",
      "source": [
        "This should output Square root of 16 is: 4.0. We did import math (bringing in the math module), and then used math.sqrt() function to compute a square root. The math library has many math functions (try math.log, math.sin, etc.)."
      ],
      "metadata": {
        "id": "ZJ5lZld_pGR9"
      }
    },
    {
      "cell_type": "markdown",
      "source": [
        "We’ll soon use pandas (for data handling) and matplotlib (for plotting). When we do, we’ll write import pandas as pd and import matplotlib.pyplot as plt – the as pd and as plt are just aliases to save typing."
      ],
      "metadata": {
        "id": "DQNS0oiopGFD"
      }
    },
    {
      "cell_type": "markdown",
      "source": [
        "*Note* : You only need to import a library once at the top of your notebook or code. After that, you can use its functions."
      ],
      "metadata": {
        "id": "v03XGJlWpF1w"
      }
    },
    {
      "cell_type": "markdown",
      "source": [
        "Libraries allow you to accomplish complex tasks with just a few lines of code because others have developed and tested these tools for you. This is especially useful in medical data analysis – why write a statistical function from scratch if a trusted library can do it?"
      ],
      "metadata": {
        "id": "QD62Y4l0pPYu"
      }
    },
    {
      "cell_type": "markdown",
      "source": [
        "### Exercise 4"
      ],
      "metadata": {
        "id": "FiSpXvkEpRYy"
      }
    },
    {
      "cell_type": "markdown",
      "source": [
        "import random and then use random.choice([list]) to pick a random element from a list of your choice (e.g., random.choice of a list of patient names)."
      ],
      "metadata": {
        "id": "n927ewdupR4i"
      }
    },
    {
      "cell_type": "code",
      "source": [
        "# prompt: import random and then use random.choice([list]) to pick a random element from a list of my patients (John, Samir, Helen)\n",
        "\n",
        "random_patient = random.choice([\"John\", \"Samir\", \"Helen\"])\n",
        "random_patient\n"
      ],
      "metadata": {
        "colab": {
          "base_uri": "https://localhost:8080/",
          "height": 35
        },
        "id": "t6X6zeEmpSVa",
        "outputId": "08c1cf99-ddbf-4c4d-cbab-a2b523a91f6d"
      },
      "execution_count": 22,
      "outputs": [
        {
          "output_type": "execute_result",
          "data": {
            "text/plain": [
              "'John'"
            ],
            "application/vnd.google.colaboratory.intrinsic+json": {
              "type": "string"
            }
          },
          "metadata": {},
          "execution_count": 22
        }
      ]
    },
    {
      "cell_type": "markdown",
      "source": [
        "import datetime and use datetime.datetime.now() to get the current date and time (just to see an example of using a slightly larger library)."
      ],
      "metadata": {
        "id": "sSQI-sJvpSgH"
      }
    },
    {
      "cell_type": "code",
      "source": [
        "# prompt: import datetime and use datetime.datetime.now() to get the current date and time\n",
        "\n",
        "import datetime\n",
        "\n",
        "# ... (rest of your existing code)\n",
        "\n",
        "# Get the current date and time\n",
        "current_datetime = datetime.datetime.now()\n",
        "print(\"Current date and time:\", current_datetime)\n"
      ],
      "metadata": {
        "id": "vD6mWx5RpSqi"
      },
      "execution_count": null,
      "outputs": []
    },
    {
      "cell_type": "markdown",
      "source": [
        "just type \"import this\" for fun"
      ],
      "metadata": {
        "id": "tbYVCGpTpSy0"
      }
    },
    {
      "cell_type": "code",
      "source": [
        "import this"
      ],
      "metadata": {
        "colab": {
          "base_uri": "https://localhost:8080/"
        },
        "id": "WH2k2QlKpS9q",
        "outputId": "b2944da1-67e9-4aaf-94c5-153e4e4fa1f9"
      },
      "execution_count": 23,
      "outputs": [
        {
          "output_type": "stream",
          "name": "stdout",
          "text": [
            "The Zen of Python, by Tim Peters\n",
            "\n",
            "Beautiful is better than ugly.\n",
            "Explicit is better than implicit.\n",
            "Simple is better than complex.\n",
            "Complex is better than complicated.\n",
            "Flat is better than nested.\n",
            "Sparse is better than dense.\n",
            "Readability counts.\n",
            "Special cases aren't special enough to break the rules.\n",
            "Although practicality beats purity.\n",
            "Errors should never pass silently.\n",
            "Unless explicitly silenced.\n",
            "In the face of ambiguity, refuse the temptation to guess.\n",
            "There should be one-- and preferably only one --obvious way to do it.\n",
            "Although that way may not be obvious at first unless you're Dutch.\n",
            "Now is better than never.\n",
            "Although never is often better than *right* now.\n",
            "If the implementation is hard to explain, it's a bad idea.\n",
            "If the implementation is easy to explain, it may be a good idea.\n",
            "Namespaces are one honking great idea -- let's do more of those!\n"
          ]
        }
      ]
    }
  ]
}