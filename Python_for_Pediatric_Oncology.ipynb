{
  "nbformat": 4,
  "nbformat_minor": 0,
  "metadata": {
    "colab": {
      "provenance": [],
      "toc_visible": true,
      "authorship_tag": "ABX9TyMJ6e+lxnfU7TRfvtSR1goW",
      "include_colab_link": true
    },
    "kernelspec": {
      "name": "python3",
      "display_name": "Python 3"
    },
    "language_info": {
      "name": "python"
    },
    "widgets": {
      "application/vnd.jupyter.widget-state+json": {
        "429105c44c064029bdae7dcf429a302c": {
          "model_module": "@jupyter-widgets/controls",
          "model_name": "VBoxModel",
          "model_module_version": "1.5.0",
          "state": {
            "_dom_classes": [
              "widget-interact"
            ],
            "_model_module": "@jupyter-widgets/controls",
            "_model_module_version": "1.5.0",
            "_model_name": "VBoxModel",
            "_view_count": null,
            "_view_module": "@jupyter-widgets/controls",
            "_view_module_version": "1.5.0",
            "_view_name": "VBoxView",
            "box_style": "",
            "children": [
              "IPY_MODEL_913587a1e2d9411d820e6276da899674",
              "IPY_MODEL_97ad0035509a4ae380274631744a69c4"
            ],
            "layout": "IPY_MODEL_b25ed706356d4e84b2b392b80ff87295"
          }
        },
        "913587a1e2d9411d820e6276da899674": {
          "model_module": "@jupyter-widgets/controls",
          "model_name": "IntSliderModel",
          "model_module_version": "1.5.0",
          "state": {
            "_dom_classes": [],
            "_model_module": "@jupyter-widgets/controls",
            "_model_module_version": "1.5.0",
            "_model_name": "IntSliderModel",
            "_view_count": null,
            "_view_module": "@jupyter-widgets/controls",
            "_view_module_version": "1.5.0",
            "_view_name": "IntSliderView",
            "continuous_update": true,
            "description": "min_age",
            "description_tooltip": null,
            "disabled": false,
            "layout": "IPY_MODEL_0f4806312b6341abbfd6efc0b61523cf",
            "max": 25,
            "min": 10,
            "orientation": "horizontal",
            "readout": true,
            "readout_format": "d",
            "step": 1,
            "style": "IPY_MODEL_84da5b527582462f9e60416c2043209b",
            "value": 17
          }
        },
        "97ad0035509a4ae380274631744a69c4": {
          "model_module": "@jupyter-widgets/output",
          "model_name": "OutputModel",
          "model_module_version": "1.0.0",
          "state": {
            "_dom_classes": [],
            "_model_module": "@jupyter-widgets/output",
            "_model_module_version": "1.0.0",
            "_model_name": "OutputModel",
            "_view_count": null,
            "_view_module": "@jupyter-widgets/output",
            "_view_module_version": "1.0.0",
            "_view_name": "OutputView",
            "layout": "IPY_MODEL_afb1fff34d724f89ab508099ea645388",
            "msg_id": "",
            "outputs": [
              {
                "output_type": "stream",
                "name": "stdout",
                "text": [
                  "Patients with age >= 17: 12\n"
                ]
              },
              {
                "output_type": "display_data",
                "data": {
                  "text/plain": "    PatientID  Age Gender  Stage B_symptoms    Outcome\n0           1   19      F      1        Yes  Remission\n2           3   17      M      1        Yes    Relapse\n3           4   20      F      1         No    Relapse\n5           6   22      F      1         No  Remission\n8           9   20      F      2         No  Remission\n9          10   24      F      2         No  Remission\n11         12   18      F      3        Yes  Remission\n12         13   20      F      3         No  Remission\n13         14   25      M      3        Yes  Remission\n15         16   21      M      3        Yes  Remission\n17         18   17      M      4         No  Remission\n18         19   23      F      4        Yes  Remission",
                  "text/html": "\n  <div id=\"df-4b6fa9a2-91ca-4e8b-b298-8381f18a7cd3\" class=\"colab-df-container\">\n    <div>\n<style scoped>\n    .dataframe tbody tr th:only-of-type {\n        vertical-align: middle;\n    }\n\n    .dataframe tbody tr th {\n        vertical-align: top;\n    }\n\n    .dataframe thead th {\n        text-align: right;\n    }\n</style>\n<table border=\"1\" class=\"dataframe\">\n  <thead>\n    <tr style=\"text-align: right;\">\n      <th></th>\n      <th>PatientID</th>\n      <th>Age</th>\n      <th>Gender</th>\n      <th>Stage</th>\n      <th>B_symptoms</th>\n      <th>Outcome</th>\n    </tr>\n  </thead>\n  <tbody>\n    <tr>\n      <th>0</th>\n      <td>1</td>\n      <td>19</td>\n      <td>F</td>\n      <td>1</td>\n      <td>Yes</td>\n      <td>Remission</td>\n    </tr>\n    <tr>\n      <th>2</th>\n      <td>3</td>\n      <td>17</td>\n      <td>M</td>\n      <td>1</td>\n      <td>Yes</td>\n      <td>Relapse</td>\n    </tr>\n    <tr>\n      <th>3</th>\n      <td>4</td>\n      <td>20</td>\n      <td>F</td>\n      <td>1</td>\n      <td>No</td>\n      <td>Relapse</td>\n    </tr>\n    <tr>\n      <th>5</th>\n      <td>6</td>\n      <td>22</td>\n      <td>F</td>\n      <td>1</td>\n      <td>No</td>\n      <td>Remission</td>\n    </tr>\n    <tr>\n      <th>8</th>\n      <td>9</td>\n      <td>20</td>\n      <td>F</td>\n      <td>2</td>\n      <td>No</td>\n      <td>Remission</td>\n    </tr>\n    <tr>\n      <th>9</th>\n      <td>10</td>\n      <td>24</td>\n      <td>F</td>\n      <td>2</td>\n      <td>No</td>\n      <td>Remission</td>\n    </tr>\n    <tr>\n      <th>11</th>\n      <td>12</td>\n      <td>18</td>\n      <td>F</td>\n      <td>3</td>\n      <td>Yes</td>\n      <td>Remission</td>\n    </tr>\n    <tr>\n      <th>12</th>\n      <td>13</td>\n      <td>20</td>\n      <td>F</td>\n      <td>3</td>\n      <td>No</td>\n      <td>Remission</td>\n    </tr>\n    <tr>\n      <th>13</th>\n      <td>14</td>\n      <td>25</td>\n      <td>M</td>\n      <td>3</td>\n      <td>Yes</td>\n      <td>Remission</td>\n    </tr>\n    <tr>\n      <th>15</th>\n      <td>16</td>\n      <td>21</td>\n      <td>M</td>\n      <td>3</td>\n      <td>Yes</td>\n      <td>Remission</td>\n    </tr>\n    <tr>\n      <th>17</th>\n      <td>18</td>\n      <td>17</td>\n      <td>M</td>\n      <td>4</td>\n      <td>No</td>\n      <td>Remission</td>\n    </tr>\n    <tr>\n      <th>18</th>\n      <td>19</td>\n      <td>23</td>\n      <td>F</td>\n      <td>4</td>\n      <td>Yes</td>\n      <td>Remission</td>\n    </tr>\n  </tbody>\n</table>\n</div>\n    <div class=\"colab-df-buttons\">\n\n  <div class=\"colab-df-container\">\n    <button class=\"colab-df-convert\" onclick=\"convertToInteractive('df-4b6fa9a2-91ca-4e8b-b298-8381f18a7cd3')\"\n            title=\"Convert this dataframe to an interactive table.\"\n            style=\"display:none;\">\n\n  <svg xmlns=\"http://www.w3.org/2000/svg\" height=\"24px\" viewBox=\"0 -960 960 960\">\n    <path d=\"M120-120v-720h720v720H120Zm60-500h600v-160H180v160Zm220 220h160v-160H400v160Zm0 220h160v-160H400v160ZM180-400h160v-160H180v160Zm440 0h160v-160H620v160ZM180-180h160v-160H180v160Zm440 0h160v-160H620v160Z\"/>\n  </svg>\n    </button>\n\n  <style>\n    .colab-df-container {\n      display:flex;\n      gap: 12px;\n    }\n\n    .colab-df-convert {\n      background-color: #E8F0FE;\n      border: none;\n      border-radius: 50%;\n      cursor: pointer;\n      display: none;\n      fill: #1967D2;\n      height: 32px;\n      padding: 0 0 0 0;\n      width: 32px;\n    }\n\n    .colab-df-convert:hover {\n      background-color: #E2EBFA;\n      box-shadow: 0px 1px 2px rgba(60, 64, 67, 0.3), 0px 1px 3px 1px rgba(60, 64, 67, 0.15);\n      fill: #174EA6;\n    }\n\n    .colab-df-buttons div {\n      margin-bottom: 4px;\n    }\n\n    [theme=dark] .colab-df-convert {\n      background-color: #3B4455;\n      fill: #D2E3FC;\n    }\n\n    [theme=dark] .colab-df-convert:hover {\n      background-color: #434B5C;\n      box-shadow: 0px 1px 3px 1px rgba(0, 0, 0, 0.15);\n      filter: drop-shadow(0px 1px 2px rgba(0, 0, 0, 0.3));\n      fill: #FFFFFF;\n    }\n  </style>\n\n    <script>\n      const buttonEl =\n        document.querySelector('#df-4b6fa9a2-91ca-4e8b-b298-8381f18a7cd3 button.colab-df-convert');\n      buttonEl.style.display =\n        google.colab.kernel.accessAllowed ? 'block' : 'none';\n\n      async function convertToInteractive(key) {\n        const element = document.querySelector('#df-4b6fa9a2-91ca-4e8b-b298-8381f18a7cd3');\n        const dataTable =\n          await google.colab.kernel.invokeFunction('convertToInteractive',\n                                                    [key], {});\n        if (!dataTable) return;\n\n        const docLinkHtml = 'Like what you see? Visit the ' +\n          '<a target=\"_blank\" href=https://colab.research.google.com/notebooks/data_table.ipynb>data table notebook</a>'\n          + ' to learn more about interactive tables.';\n        element.innerHTML = '';\n        dataTable['output_type'] = 'display_data';\n        await google.colab.output.renderOutput(dataTable, element);\n        const docLink = document.createElement('div');\n        docLink.innerHTML = docLinkHtml;\n        element.appendChild(docLink);\n      }\n    </script>\n  </div>\n\n\n<div id=\"df-f0d36abb-b318-46b2-9339-be14df567739\">\n  <button class=\"colab-df-quickchart\" onclick=\"quickchart('df-f0d36abb-b318-46b2-9339-be14df567739')\"\n            title=\"Suggest charts\"\n            style=\"display:none;\">\n\n<svg xmlns=\"http://www.w3.org/2000/svg\" height=\"24px\"viewBox=\"0 0 24 24\"\n     width=\"24px\">\n    <g>\n        <path d=\"M19 3H5c-1.1 0-2 .9-2 2v14c0 1.1.9 2 2 2h14c1.1 0 2-.9 2-2V5c0-1.1-.9-2-2-2zM9 17H7v-7h2v7zm4 0h-2V7h2v10zm4 0h-2v-4h2v4z\"/>\n    </g>\n</svg>\n  </button>\n\n<style>\n  .colab-df-quickchart {\n      --bg-color: #E8F0FE;\n      --fill-color: #1967D2;\n      --hover-bg-color: #E2EBFA;\n      --hover-fill-color: #174EA6;\n      --disabled-fill-color: #AAA;\n      --disabled-bg-color: #DDD;\n  }\n\n  [theme=dark] .colab-df-quickchart {\n      --bg-color: #3B4455;\n      --fill-color: #D2E3FC;\n      --hover-bg-color: #434B5C;\n      --hover-fill-color: #FFFFFF;\n      --disabled-bg-color: #3B4455;\n      --disabled-fill-color: #666;\n  }\n\n  .colab-df-quickchart {\n    background-color: var(--bg-color);\n    border: none;\n    border-radius: 50%;\n    cursor: pointer;\n    display: none;\n    fill: var(--fill-color);\n    height: 32px;\n    padding: 0;\n    width: 32px;\n  }\n\n  .colab-df-quickchart:hover {\n    background-color: var(--hover-bg-color);\n    box-shadow: 0 1px 2px rgba(60, 64, 67, 0.3), 0 1px 3px 1px rgba(60, 64, 67, 0.15);\n    fill: var(--button-hover-fill-color);\n  }\n\n  .colab-df-quickchart-complete:disabled,\n  .colab-df-quickchart-complete:disabled:hover {\n    background-color: var(--disabled-bg-color);\n    fill: var(--disabled-fill-color);\n    box-shadow: none;\n  }\n\n  .colab-df-spinner {\n    border: 2px solid var(--fill-color);\n    border-color: transparent;\n    border-bottom-color: var(--fill-color);\n    animation:\n      spin 1s steps(1) infinite;\n  }\n\n  @keyframes spin {\n    0% {\n      border-color: transparent;\n      border-bottom-color: var(--fill-color);\n      border-left-color: var(--fill-color);\n    }\n    20% {\n      border-color: transparent;\n      border-left-color: var(--fill-color);\n      border-top-color: var(--fill-color);\n    }\n    30% {\n      border-color: transparent;\n      border-left-color: var(--fill-color);\n      border-top-color: var(--fill-color);\n      border-right-color: var(--fill-color);\n    }\n    40% {\n      border-color: transparent;\n      border-right-color: var(--fill-color);\n      border-top-color: var(--fill-color);\n    }\n    60% {\n      border-color: transparent;\n      border-right-color: var(--fill-color);\n    }\n    80% {\n      border-color: transparent;\n      border-right-color: var(--fill-color);\n      border-bottom-color: var(--fill-color);\n    }\n    90% {\n      border-color: transparent;\n      border-bottom-color: var(--fill-color);\n    }\n  }\n</style>\n\n  <script>\n    async function quickchart(key) {\n      const quickchartButtonEl =\n        document.querySelector('#' + key + ' button');\n      quickchartButtonEl.disabled = true;  // To prevent multiple clicks.\n      quickchartButtonEl.classList.add('colab-df-spinner');\n      try {\n        const charts = await google.colab.kernel.invokeFunction(\n            'suggestCharts', [key], {});\n      } catch (error) {\n        console.error('Error during call to suggestCharts:', error);\n      }\n      quickchartButtonEl.classList.remove('colab-df-spinner');\n      quickchartButtonEl.classList.add('colab-df-quickchart-complete');\n    }\n    (() => {\n      let quickchartButtonEl =\n        document.querySelector('#df-f0d36abb-b318-46b2-9339-be14df567739 button');\n      quickchartButtonEl.style.display =\n        google.colab.kernel.accessAllowed ? 'block' : 'none';\n    })();\n  </script>\n</div>\n\n    </div>\n  </div>\n",
                  "application/vnd.google.colaboratory.intrinsic+json": {
                    "type": "dataframe",
                    "summary": "{\n  \"name\": \"interact(filter_by_min_age, min_age=(10, 25, 1))\",\n  \"rows\": 12,\n  \"fields\": [\n    {\n      \"column\": \"PatientID\",\n      \"properties\": {\n        \"dtype\": \"number\",\n        \"std\": 5,\n        \"min\": 1,\n        \"max\": 19,\n        \"num_unique_values\": 12,\n        \"samples\": [\n          18,\n          16,\n          1\n        ],\n        \"semantic_type\": \"\",\n        \"description\": \"\"\n      }\n    },\n    {\n      \"column\": \"Age\",\n      \"properties\": {\n        \"dtype\": \"number\",\n        \"std\": 2,\n        \"min\": 17,\n        \"max\": 25,\n        \"num_unique_values\": 9,\n        \"samples\": [\n          21,\n          17,\n          18\n        ],\n        \"semantic_type\": \"\",\n        \"description\": \"\"\n      }\n    },\n    {\n      \"column\": \"Gender\",\n      \"properties\": {\n        \"dtype\": \"category\",\n        \"num_unique_values\": 2,\n        \"samples\": [\n          \"M\",\n          \"F\"\n        ],\n        \"semantic_type\": \"\",\n        \"description\": \"\"\n      }\n    },\n    {\n      \"column\": \"Stage\",\n      \"properties\": {\n        \"dtype\": \"number\",\n        \"std\": 1,\n        \"min\": 1,\n        \"max\": 4,\n        \"num_unique_values\": 4,\n        \"samples\": [\n          2,\n          4\n        ],\n        \"semantic_type\": \"\",\n        \"description\": \"\"\n      }\n    },\n    {\n      \"column\": \"B_symptoms\",\n      \"properties\": {\n        \"dtype\": \"category\",\n        \"num_unique_values\": 2,\n        \"samples\": [\n          \"No\",\n          \"Yes\"\n        ],\n        \"semantic_type\": \"\",\n        \"description\": \"\"\n      }\n    },\n    {\n      \"column\": \"Outcome\",\n      \"properties\": {\n        \"dtype\": \"category\",\n        \"num_unique_values\": 2,\n        \"samples\": [\n          \"Relapse\",\n          \"Remission\"\n        ],\n        \"semantic_type\": \"\",\n        \"description\": \"\"\n      }\n    }\n  ]\n}"
                  }
                },
                "metadata": {}
              }
            ]
          }
        },
        "b25ed706356d4e84b2b392b80ff87295": {
          "model_module": "@jupyter-widgets/base",
          "model_name": "LayoutModel",
          "model_module_version": "1.2.0",
          "state": {
            "_model_module": "@jupyter-widgets/base",
            "_model_module_version": "1.2.0",
            "_model_name": "LayoutModel",
            "_view_count": null,
            "_view_module": "@jupyter-widgets/base",
            "_view_module_version": "1.2.0",
            "_view_name": "LayoutView",
            "align_content": null,
            "align_items": null,
            "align_self": null,
            "border": null,
            "bottom": null,
            "display": null,
            "flex": null,
            "flex_flow": null,
            "grid_area": null,
            "grid_auto_columns": null,
            "grid_auto_flow": null,
            "grid_auto_rows": null,
            "grid_column": null,
            "grid_gap": null,
            "grid_row": null,
            "grid_template_areas": null,
            "grid_template_columns": null,
            "grid_template_rows": null,
            "height": null,
            "justify_content": null,
            "justify_items": null,
            "left": null,
            "margin": null,
            "max_height": null,
            "max_width": null,
            "min_height": null,
            "min_width": null,
            "object_fit": null,
            "object_position": null,
            "order": null,
            "overflow": null,
            "overflow_x": null,
            "overflow_y": null,
            "padding": null,
            "right": null,
            "top": null,
            "visibility": null,
            "width": null
          }
        },
        "0f4806312b6341abbfd6efc0b61523cf": {
          "model_module": "@jupyter-widgets/base",
          "model_name": "LayoutModel",
          "model_module_version": "1.2.0",
          "state": {
            "_model_module": "@jupyter-widgets/base",
            "_model_module_version": "1.2.0",
            "_model_name": "LayoutModel",
            "_view_count": null,
            "_view_module": "@jupyter-widgets/base",
            "_view_module_version": "1.2.0",
            "_view_name": "LayoutView",
            "align_content": null,
            "align_items": null,
            "align_self": null,
            "border": null,
            "bottom": null,
            "display": null,
            "flex": null,
            "flex_flow": null,
            "grid_area": null,
            "grid_auto_columns": null,
            "grid_auto_flow": null,
            "grid_auto_rows": null,
            "grid_column": null,
            "grid_gap": null,
            "grid_row": null,
            "grid_template_areas": null,
            "grid_template_columns": null,
            "grid_template_rows": null,
            "height": null,
            "justify_content": null,
            "justify_items": null,
            "left": null,
            "margin": null,
            "max_height": null,
            "max_width": null,
            "min_height": null,
            "min_width": null,
            "object_fit": null,
            "object_position": null,
            "order": null,
            "overflow": null,
            "overflow_x": null,
            "overflow_y": null,
            "padding": null,
            "right": null,
            "top": null,
            "visibility": null,
            "width": null
          }
        },
        "84da5b527582462f9e60416c2043209b": {
          "model_module": "@jupyter-widgets/controls",
          "model_name": "SliderStyleModel",
          "model_module_version": "1.5.0",
          "state": {
            "_model_module": "@jupyter-widgets/controls",
            "_model_module_version": "1.5.0",
            "_model_name": "SliderStyleModel",
            "_view_count": null,
            "_view_module": "@jupyter-widgets/base",
            "_view_module_version": "1.2.0",
            "_view_name": "StyleView",
            "description_width": "",
            "handle_color": null
          }
        },
        "afb1fff34d724f89ab508099ea645388": {
          "model_module": "@jupyter-widgets/base",
          "model_name": "LayoutModel",
          "model_module_version": "1.2.0",
          "state": {
            "_model_module": "@jupyter-widgets/base",
            "_model_module_version": "1.2.0",
            "_model_name": "LayoutModel",
            "_view_count": null,
            "_view_module": "@jupyter-widgets/base",
            "_view_module_version": "1.2.0",
            "_view_name": "LayoutView",
            "align_content": null,
            "align_items": null,
            "align_self": null,
            "border": null,
            "bottom": null,
            "display": null,
            "flex": null,
            "flex_flow": null,
            "grid_area": null,
            "grid_auto_columns": null,
            "grid_auto_flow": null,
            "grid_auto_rows": null,
            "grid_column": null,
            "grid_gap": null,
            "grid_row": null,
            "grid_template_areas": null,
            "grid_template_columns": null,
            "grid_template_rows": null,
            "height": null,
            "justify_content": null,
            "justify_items": null,
            "left": null,
            "margin": null,
            "max_height": null,
            "max_width": null,
            "min_height": null,
            "min_width": null,
            "object_fit": null,
            "object_position": null,
            "order": null,
            "overflow": null,
            "overflow_x": null,
            "overflow_y": null,
            "padding": null,
            "right": null,
            "top": null,
            "visibility": null,
            "width": null
          }
        },
        "a8e3daa024a84c1caef70a0d3653ed04": {
          "model_module": "@jupyter-widgets/controls",
          "model_name": "VBoxModel",
          "model_module_version": "1.5.0",
          "state": {
            "_dom_classes": [
              "widget-interact"
            ],
            "_model_module": "@jupyter-widgets/controls",
            "_model_module_version": "1.5.0",
            "_model_name": "VBoxModel",
            "_view_count": null,
            "_view_module": "@jupyter-widgets/controls",
            "_view_module_version": "1.5.0",
            "_view_name": "VBoxView",
            "box_style": "",
            "children": [
              "IPY_MODEL_8aa2c1eafade40f3ad2edc4b78a078c7",
              "IPY_MODEL_2580f381425b4a099c9f6ddba87c4b97",
              "IPY_MODEL_cfac7f7fb51143c58b190912bd062ea1"
            ],
            "layout": "IPY_MODEL_907356cbd0ab422c96bf965e0acf6eba"
          }
        },
        "8aa2c1eafade40f3ad2edc4b78a078c7": {
          "model_module": "@jupyter-widgets/controls",
          "model_name": "IntSliderModel",
          "model_module_version": "1.5.0",
          "state": {
            "_dom_classes": [],
            "_model_module": "@jupyter-widgets/controls",
            "_model_module_version": "1.5.0",
            "_model_name": "IntSliderModel",
            "_view_count": null,
            "_view_module": "@jupyter-widgets/controls",
            "_view_module_version": "1.5.0",
            "_view_name": "IntSliderView",
            "continuous_update": true,
            "description": "stage",
            "description_tooltip": null,
            "disabled": false,
            "layout": "IPY_MODEL_08ce85597f474ff0b72339d1e5085e13",
            "max": 4,
            "min": 1,
            "orientation": "horizontal",
            "readout": true,
            "readout_format": "d",
            "step": 1,
            "style": "IPY_MODEL_fd98bedb1406407995e9396d0491cca3",
            "value": 2
          }
        },
        "2580f381425b4a099c9f6ddba87c4b97": {
          "model_module": "@jupyter-widgets/controls",
          "model_name": "DropdownModel",
          "model_module_version": "1.5.0",
          "state": {
            "_dom_classes": [],
            "_model_module": "@jupyter-widgets/controls",
            "_model_module_version": "1.5.0",
            "_model_name": "DropdownModel",
            "_options_labels": [
              "No",
              "Yes"
            ],
            "_view_count": null,
            "_view_module": "@jupyter-widgets/controls",
            "_view_module_version": "1.5.0",
            "_view_name": "DropdownView",
            "description": "b_symptoms",
            "description_tooltip": null,
            "disabled": false,
            "index": 1,
            "layout": "IPY_MODEL_05430ec6adea41fbb931d7587cba7142",
            "style": "IPY_MODEL_b715ee1560f743afa1597033176bce34"
          }
        },
        "cfac7f7fb51143c58b190912bd062ea1": {
          "model_module": "@jupyter-widgets/output",
          "model_name": "OutputModel",
          "model_module_version": "1.0.0",
          "state": {
            "_dom_classes": [],
            "_model_module": "@jupyter-widgets/output",
            "_model_module_version": "1.0.0",
            "_model_name": "OutputModel",
            "_view_count": null,
            "_view_module": "@jupyter-widgets/output",
            "_view_module_version": "1.0.0",
            "_view_name": "OutputView",
            "layout": "IPY_MODEL_4f52bd35ea0b4f8dbc438f9558d491b1",
            "msg_id": "",
            "outputs": [
              {
                "output_type": "stream",
                "name": "stdout",
                "text": [
                  "Stage 2 with B symptoms(Yes) -> **High Risk**\n"
                ]
              }
            ]
          }
        },
        "907356cbd0ab422c96bf965e0acf6eba": {
          "model_module": "@jupyter-widgets/base",
          "model_name": "LayoutModel",
          "model_module_version": "1.2.0",
          "state": {
            "_model_module": "@jupyter-widgets/base",
            "_model_module_version": "1.2.0",
            "_model_name": "LayoutModel",
            "_view_count": null,
            "_view_module": "@jupyter-widgets/base",
            "_view_module_version": "1.2.0",
            "_view_name": "LayoutView",
            "align_content": null,
            "align_items": null,
            "align_self": null,
            "border": null,
            "bottom": null,
            "display": null,
            "flex": null,
            "flex_flow": null,
            "grid_area": null,
            "grid_auto_columns": null,
            "grid_auto_flow": null,
            "grid_auto_rows": null,
            "grid_column": null,
            "grid_gap": null,
            "grid_row": null,
            "grid_template_areas": null,
            "grid_template_columns": null,
            "grid_template_rows": null,
            "height": null,
            "justify_content": null,
            "justify_items": null,
            "left": null,
            "margin": null,
            "max_height": null,
            "max_width": null,
            "min_height": null,
            "min_width": null,
            "object_fit": null,
            "object_position": null,
            "order": null,
            "overflow": null,
            "overflow_x": null,
            "overflow_y": null,
            "padding": null,
            "right": null,
            "top": null,
            "visibility": null,
            "width": null
          }
        },
        "08ce85597f474ff0b72339d1e5085e13": {
          "model_module": "@jupyter-widgets/base",
          "model_name": "LayoutModel",
          "model_module_version": "1.2.0",
          "state": {
            "_model_module": "@jupyter-widgets/base",
            "_model_module_version": "1.2.0",
            "_model_name": "LayoutModel",
            "_view_count": null,
            "_view_module": "@jupyter-widgets/base",
            "_view_module_version": "1.2.0",
            "_view_name": "LayoutView",
            "align_content": null,
            "align_items": null,
            "align_self": null,
            "border": null,
            "bottom": null,
            "display": null,
            "flex": null,
            "flex_flow": null,
            "grid_area": null,
            "grid_auto_columns": null,
            "grid_auto_flow": null,
            "grid_auto_rows": null,
            "grid_column": null,
            "grid_gap": null,
            "grid_row": null,
            "grid_template_areas": null,
            "grid_template_columns": null,
            "grid_template_rows": null,
            "height": null,
            "justify_content": null,
            "justify_items": null,
            "left": null,
            "margin": null,
            "max_height": null,
            "max_width": null,
            "min_height": null,
            "min_width": null,
            "object_fit": null,
            "object_position": null,
            "order": null,
            "overflow": null,
            "overflow_x": null,
            "overflow_y": null,
            "padding": null,
            "right": null,
            "top": null,
            "visibility": null,
            "width": null
          }
        },
        "fd98bedb1406407995e9396d0491cca3": {
          "model_module": "@jupyter-widgets/controls",
          "model_name": "SliderStyleModel",
          "model_module_version": "1.5.0",
          "state": {
            "_model_module": "@jupyter-widgets/controls",
            "_model_module_version": "1.5.0",
            "_model_name": "SliderStyleModel",
            "_view_count": null,
            "_view_module": "@jupyter-widgets/base",
            "_view_module_version": "1.2.0",
            "_view_name": "StyleView",
            "description_width": "",
            "handle_color": null
          }
        },
        "05430ec6adea41fbb931d7587cba7142": {
          "model_module": "@jupyter-widgets/base",
          "model_name": "LayoutModel",
          "model_module_version": "1.2.0",
          "state": {
            "_model_module": "@jupyter-widgets/base",
            "_model_module_version": "1.2.0",
            "_model_name": "LayoutModel",
            "_view_count": null,
            "_view_module": "@jupyter-widgets/base",
            "_view_module_version": "1.2.0",
            "_view_name": "LayoutView",
            "align_content": null,
            "align_items": null,
            "align_self": null,
            "border": null,
            "bottom": null,
            "display": null,
            "flex": null,
            "flex_flow": null,
            "grid_area": null,
            "grid_auto_columns": null,
            "grid_auto_flow": null,
            "grid_auto_rows": null,
            "grid_column": null,
            "grid_gap": null,
            "grid_row": null,
            "grid_template_areas": null,
            "grid_template_columns": null,
            "grid_template_rows": null,
            "height": null,
            "justify_content": null,
            "justify_items": null,
            "left": null,
            "margin": null,
            "max_height": null,
            "max_width": null,
            "min_height": null,
            "min_width": null,
            "object_fit": null,
            "object_position": null,
            "order": null,
            "overflow": null,
            "overflow_x": null,
            "overflow_y": null,
            "padding": null,
            "right": null,
            "top": null,
            "visibility": null,
            "width": null
          }
        },
        "b715ee1560f743afa1597033176bce34": {
          "model_module": "@jupyter-widgets/controls",
          "model_name": "DescriptionStyleModel",
          "model_module_version": "1.5.0",
          "state": {
            "_model_module": "@jupyter-widgets/controls",
            "_model_module_version": "1.5.0",
            "_model_name": "DescriptionStyleModel",
            "_view_count": null,
            "_view_module": "@jupyter-widgets/base",
            "_view_module_version": "1.2.0",
            "_view_name": "StyleView",
            "description_width": ""
          }
        },
        "4f52bd35ea0b4f8dbc438f9558d491b1": {
          "model_module": "@jupyter-widgets/base",
          "model_name": "LayoutModel",
          "model_module_version": "1.2.0",
          "state": {
            "_model_module": "@jupyter-widgets/base",
            "_model_module_version": "1.2.0",
            "_model_name": "LayoutModel",
            "_view_count": null,
            "_view_module": "@jupyter-widgets/base",
            "_view_module_version": "1.2.0",
            "_view_name": "LayoutView",
            "align_content": null,
            "align_items": null,
            "align_self": null,
            "border": null,
            "bottom": null,
            "display": null,
            "flex": null,
            "flex_flow": null,
            "grid_area": null,
            "grid_auto_columns": null,
            "grid_auto_flow": null,
            "grid_auto_rows": null,
            "grid_column": null,
            "grid_gap": null,
            "grid_row": null,
            "grid_template_areas": null,
            "grid_template_columns": null,
            "grid_template_rows": null,
            "height": null,
            "justify_content": null,
            "justify_items": null,
            "left": null,
            "margin": null,
            "max_height": null,
            "max_width": null,
            "min_height": null,
            "min_width": null,
            "object_fit": null,
            "object_position": null,
            "order": null,
            "overflow": null,
            "overflow_x": null,
            "overflow_y": null,
            "padding": null,
            "right": null,
            "top": null,
            "visibility": null,
            "width": null
          }
        },
        "b9dca53c05b24b58ac20f1b351d14191": {
          "model_module": "@jupyter-widgets/controls",
          "model_name": "VBoxModel",
          "model_module_version": "1.5.0",
          "state": {
            "_dom_classes": [
              "widget-interact"
            ],
            "_model_module": "@jupyter-widgets/controls",
            "_model_module_version": "1.5.0",
            "_model_name": "VBoxModel",
            "_view_count": null,
            "_view_module": "@jupyter-widgets/controls",
            "_view_module_version": "1.5.0",
            "_view_name": "VBoxView",
            "box_style": "",
            "children": [
              "IPY_MODEL_e5cc2831721e47cdab9471f24148f7a6",
              "IPY_MODEL_63492a973ce4482c83b9316e3ce87a39"
            ],
            "layout": "IPY_MODEL_eb44a0b9137344a5818c75d30b1bb9af"
          }
        },
        "e5cc2831721e47cdab9471f24148f7a6": {
          "model_module": "@jupyter-widgets/controls",
          "model_name": "IntSliderModel",
          "model_module_version": "1.5.0",
          "state": {
            "_dom_classes": [],
            "_model_module": "@jupyter-widgets/controls",
            "_model_module_version": "1.5.0",
            "_model_name": "IntSliderModel",
            "_view_count": null,
            "_view_module": "@jupyter-widgets/controls",
            "_view_module_version": "1.5.0",
            "_view_name": "IntSliderView",
            "continuous_update": true,
            "description": "stage",
            "description_tooltip": null,
            "disabled": false,
            "layout": "IPY_MODEL_ddbfc8e90b5442199b4a2410eafd1168",
            "max": 4,
            "min": 1,
            "orientation": "horizontal",
            "readout": true,
            "readout_format": "d",
            "step": 1,
            "style": "IPY_MODEL_b468a23d8eb54d1e9ab5b4710f063078",
            "value": 4
          }
        },
        "63492a973ce4482c83b9316e3ce87a39": {
          "model_module": "@jupyter-widgets/output",
          "model_name": "OutputModel",
          "model_module_version": "1.0.0",
          "state": {
            "_dom_classes": [],
            "_model_module": "@jupyter-widgets/output",
            "_model_module_version": "1.0.0",
            "_model_name": "OutputModel",
            "_view_count": null,
            "_view_module": "@jupyter-widgets/output",
            "_view_module_version": "1.0.0",
            "_view_name": "OutputView",
            "layout": "IPY_MODEL_4ce864e487204613ab3633612b8c0624",
            "msg_id": "",
            "outputs": [
              {
                "output_type": "display_data",
                "data": {
                  "text/plain": "<Figure size 800x600 with 1 Axes>",
                  "image/png": "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\n"
                },
                "metadata": {}
              }
            ]
          }
        },
        "eb44a0b9137344a5818c75d30b1bb9af": {
          "model_module": "@jupyter-widgets/base",
          "model_name": "LayoutModel",
          "model_module_version": "1.2.0",
          "state": {
            "_model_module": "@jupyter-widgets/base",
            "_model_module_version": "1.2.0",
            "_model_name": "LayoutModel",
            "_view_count": null,
            "_view_module": "@jupyter-widgets/base",
            "_view_module_version": "1.2.0",
            "_view_name": "LayoutView",
            "align_content": null,
            "align_items": null,
            "align_self": null,
            "border": null,
            "bottom": null,
            "display": null,
            "flex": null,
            "flex_flow": null,
            "grid_area": null,
            "grid_auto_columns": null,
            "grid_auto_flow": null,
            "grid_auto_rows": null,
            "grid_column": null,
            "grid_gap": null,
            "grid_row": null,
            "grid_template_areas": null,
            "grid_template_columns": null,
            "grid_template_rows": null,
            "height": null,
            "justify_content": null,
            "justify_items": null,
            "left": null,
            "margin": null,
            "max_height": null,
            "max_width": null,
            "min_height": null,
            "min_width": null,
            "object_fit": null,
            "object_position": null,
            "order": null,
            "overflow": null,
            "overflow_x": null,
            "overflow_y": null,
            "padding": null,
            "right": null,
            "top": null,
            "visibility": null,
            "width": null
          }
        },
        "ddbfc8e90b5442199b4a2410eafd1168": {
          "model_module": "@jupyter-widgets/base",
          "model_name": "LayoutModel",
          "model_module_version": "1.2.0",
          "state": {
            "_model_module": "@jupyter-widgets/base",
            "_model_module_version": "1.2.0",
            "_model_name": "LayoutModel",
            "_view_count": null,
            "_view_module": "@jupyter-widgets/base",
            "_view_module_version": "1.2.0",
            "_view_name": "LayoutView",
            "align_content": null,
            "align_items": null,
            "align_self": null,
            "border": null,
            "bottom": null,
            "display": null,
            "flex": null,
            "flex_flow": null,
            "grid_area": null,
            "grid_auto_columns": null,
            "grid_auto_flow": null,
            "grid_auto_rows": null,
            "grid_column": null,
            "grid_gap": null,
            "grid_row": null,
            "grid_template_areas": null,
            "grid_template_columns": null,
            "grid_template_rows": null,
            "height": null,
            "justify_content": null,
            "justify_items": null,
            "left": null,
            "margin": null,
            "max_height": null,
            "max_width": null,
            "min_height": null,
            "min_width": null,
            "object_fit": null,
            "object_position": null,
            "order": null,
            "overflow": null,
            "overflow_x": null,
            "overflow_y": null,
            "padding": null,
            "right": null,
            "top": null,
            "visibility": null,
            "width": null
          }
        },
        "b468a23d8eb54d1e9ab5b4710f063078": {
          "model_module": "@jupyter-widgets/controls",
          "model_name": "SliderStyleModel",
          "model_module_version": "1.5.0",
          "state": {
            "_model_module": "@jupyter-widgets/controls",
            "_model_module_version": "1.5.0",
            "_model_name": "SliderStyleModel",
            "_view_count": null,
            "_view_module": "@jupyter-widgets/base",
            "_view_module_version": "1.2.0",
            "_view_name": "StyleView",
            "description_width": "",
            "handle_color": null
          }
        },
        "4ce864e487204613ab3633612b8c0624": {
          "model_module": "@jupyter-widgets/base",
          "model_name": "LayoutModel",
          "model_module_version": "1.2.0",
          "state": {
            "_model_module": "@jupyter-widgets/base",
            "_model_module_version": "1.2.0",
            "_model_name": "LayoutModel",
            "_view_count": null,
            "_view_module": "@jupyter-widgets/base",
            "_view_module_version": "1.2.0",
            "_view_name": "LayoutView",
            "align_content": null,
            "align_items": null,
            "align_self": null,
            "border": null,
            "bottom": null,
            "display": null,
            "flex": null,
            "flex_flow": null,
            "grid_area": null,
            "grid_auto_columns": null,
            "grid_auto_flow": null,
            "grid_auto_rows": null,
            "grid_column": null,
            "grid_gap": null,
            "grid_row": null,
            "grid_template_areas": null,
            "grid_template_columns": null,
            "grid_template_rows": null,
            "height": null,
            "justify_content": null,
            "justify_items": null,
            "left": null,
            "margin": null,
            "max_height": null,
            "max_width": null,
            "min_height": null,
            "min_width": null,
            "object_fit": null,
            "object_position": null,
            "order": null,
            "overflow": null,
            "overflow_x": null,
            "overflow_y": null,
            "padding": null,
            "right": null,
            "top": null,
            "visibility": null,
            "width": null
          }
        }
      }
    }
  },
  "cells": [
    {
      "cell_type": "markdown",
      "metadata": {
        "id": "view-in-github",
        "colab_type": "text"
      },
      "source": [
        "<a href=\"https://colab.research.google.com/github/IyadSultan/educational/blob/main/Python_for_Pediatric_Oncology.ipynb\" target=\"_parent\"><img src=\"https://colab.research.google.com/assets/colab-badge.svg\" alt=\"Open In Colab\"/></a>"
      ]
    },
    {
      "cell_type": "markdown",
      "source": [
        "# Python for Pediatric Oncology: Introductory Coding Workshop"
      ],
      "metadata": {
        "id": "ubtNZLjkaWL8"
      }
    },
    {
      "cell_type": "markdown",
      "source": [
        "# Variables\n",
        "Variables are like labeled containers for information. In medicine, you might put a patient’s age in one field, weight in another – in Python, you’d store these values in variables. A variable has a name and holds some value (number, text, etc.). You can then use that name to retrieve or change the value. For example, let's create a variable for a patient's age and another for their name:"
      ],
      "metadata": {
        "id": "oAPJLrvtaWAE"
      }
    },
    {
      "cell_type": "code",
      "source": [
        "# Storing patient info in variables\n",
        "patient_name = \"Alice\"\n",
        "patient_age = 7\n",
        "print(\"Patient name:\", patient_name)\n",
        "print(\"Patient age:\", patient_age)\n"
      ],
      "metadata": {
        "id": "3Ng0j4L1aVoL",
        "colab": {
          "base_uri": "https://localhost:8080/"
        },
        "outputId": "9117f047-12b9-4141-9247-60ab11628cae"
      },
      "execution_count": 1,
      "outputs": [
        {
          "output_type": "stream",
          "name": "stdout",
          "text": [
            "Patient name: Alice\n",
            "Patient age: 7\n"
          ]
        }
      ]
    },
    {
      "cell_type": "markdown",
      "source": [
        "## Data types\n",
        "Python has several basic data types:\n",
        "Integers (int) for whole numbers (e.g., 7 for age).\n",
        "Floats for decimals (e.g., 7.5 for weight in kg perhaps).\n",
        "Strings (str) for text (e.g., \"Alice\" for a name or \"Stage I\" for a disease stage).\n",
        "Booleans (bool) for True/False values (e.g., True for has fever, False for no fever)."
      ],
      "metadata": {
        "id": "C_Mg8CvMcSAZ"
      }
    },
    {
      "cell_type": "markdown",
      "source": [
        "### Lists"
      ],
      "metadata": {
        "id": "IeDa0jK8a2jp"
      }
    },
    {
      "cell_type": "markdown",
      "source": [],
      "metadata": {
        "id": "CHvcX8oVanAj"
      }
    },
    {
      "cell_type": "code",
      "execution_count": null,
      "metadata": {
        "id": "NSLsx672YkJZ"
      },
      "outputs": [],
      "source": [
        "patient_names = [\"Alice\", \"Bob\", \"Charlie\"]\n",
        "temperatures = [36.6, 38.0, 39.4]  # in °C\n",
        "print(patient_names)\n",
        "print(\"First patient:\", patient_names[0])\n"
      ]
    },
    {
      "cell_type": "markdown",
      "source": [
        "This creates a list of three names and a list of three temperature readings. patient_names[0] accesses the first element (\"Alice\") since indexing starts at 0 in Python. Lists are super useful to hold multiple related items (like records in a cohort).\n",
        "\n",
        "Analogy: Think of a variable as a labeled jar where you can put a piece of data. You might have a jar labeled \"Age\" containing the number 7. You can open it and replace it with 8 later. A list is like a pill organizer with multiple slots – each slot can hold a value, and you can access each by its position."
      ],
      "metadata": {
        "id": "jAwzLE5Yj6nd"
      }
    },
    {
      "cell_type": "markdown",
      "source": [
        "### Exercise 1\n",
        "Generate a list of 10 random numbers (between 1 and 6) and print the first and last number"
      ],
      "metadata": {
        "id": "hg7A9FxMbAYI"
      }
    },
    {
      "cell_type": "code",
      "source": [],
      "metadata": {
        "id": "wLesG6VrdgK7"
      },
      "execution_count": null,
      "outputs": []
    },
    {
      "cell_type": "markdown",
      "source": [
        "Make a variable hospital_name for your hospital and print it."
      ],
      "metadata": {
        "id": "-idMM879kCfP"
      }
    },
    {
      "cell_type": "code",
      "source": [
        "# prompt: Make a variable hospital_name and give it a value of \"KHCC\"\n",
        "\n",
        "import random\n",
        "\n",
        "# Generate a list of 10 random numbers between 1 and 6\n",
        "random_numbers = [random.randint(1, 6) for _ in range(10)]\n",
        "\n",
        "# Print the first and last numbers\n",
        "print(\"First number:\", random_numbers[0])\n",
        "print(\"Last number:\", random_numbers[-1])\n",
        "\n",
        "# Make a variable hospital_name and give it a value of \"KHCC\"\n",
        "hospital_name = \"KHCC\"\n",
        "print(\"Hospital Name:\", hospital_name)\n"
      ],
      "metadata": {
        "id": "uYwSN7iFkDaD"
      },
      "execution_count": null,
      "outputs": []
    },
    {
      "cell_type": "markdown",
      "source": [
        "Create a list ward_numbers with some ward/floor numbers and try printing the second item (index 1)."
      ],
      "metadata": {
        "id": "EPlnbJchkE_0"
      }
    },
    {
      "cell_type": "code",
      "source": [
        "# prompt: Create a list ward_numbers with some ward/floor numbers and try printing the second item (index 1).\n",
        "\n",
        "ward_numbers = [101, 202, 303, 404]\n",
        "print(\"Second ward/floor number:\", ward_numbers[1])\n"
      ],
      "metadata": {
        "colab": {
          "base_uri": "https://localhost:8080/"
        },
        "id": "zBpnFHdYkFhL",
        "outputId": "2f8293c3-f621-43a1-c2f3-5486bf014ff9"
      },
      "execution_count": null,
      "outputs": [
        {
          "output_type": "stream",
          "name": "stdout",
          "text": [
            "Second ward/floor number: 202\n"
          ]
        }
      ]
    },
    {
      "cell_type": "markdown",
      "source": [
        "Change one element in your list (e.g., update a ward number) and print the list again to see the change."
      ],
      "metadata": {
        "id": "OL7YS1_5dgiJ"
      }
    },
    {
      "cell_type": "code",
      "source": [
        "# prompt: Change one element in your list by changing the first element to 102 and print the list again to see the change.\n",
        "\n",
        "ward_numbers[0] = 102\n",
        "ward_numbers\n"
      ],
      "metadata": {
        "colab": {
          "base_uri": "https://localhost:8080/"
        },
        "id": "yHA6xjK8kQRW",
        "outputId": "c13439d0-ca2b-472f-d470-95adef512853"
      },
      "execution_count": null,
      "outputs": [
        {
          "output_type": "execute_result",
          "data": {
            "text/plain": [
              "[102, 202, 303, 404]"
            ]
          },
          "metadata": {},
          "execution_count": 4
        }
      ]
    },
    {
      "cell_type": "markdown",
      "source": [
        "# Loops and Conditional Logic"
      ],
      "metadata": {
        "id": "7zZXf3wRk8nI"
      }
    },
    {
      "cell_type": "markdown",
      "source": [
        "## Loops\n",
        "In programming, loops let us repeat actions easily, and conditional statements (if/else) let us make choices based on data. These are like the bread and butter of automating tasks. For Loops: A for-loop allows you to iterate over a sequence (like each item in a list) and do something with each item. Imagine doing morning rounds for each patient in a list – that's a loop in action (repeating a procedure for each patient). Let's say we have a list of patient temperatures and we want to check each for fever:\n",
        "\n",
        "```\n",
        "# This is formatted as code\n",
        "```\n",
        "\n"
      ],
      "metadata": {
        "id": "2Nzw3i3JlEV9"
      }
    },
    {
      "cell_type": "code",
      "source": [
        "temperatures = [36.6, 38.0, 39.4]  # three patients' temperatures\n",
        "for temp in temperatures:\n",
        "    print(\"Current temp:\", temp)\n"
      ],
      "metadata": {
        "colab": {
          "base_uri": "https://localhost:8080/"
        },
        "id": "puP-aidilGTY",
        "outputId": "dcf22e2f-e5a0-4d3e-a679-2ada89215d1d"
      },
      "execution_count": null,
      "outputs": [
        {
          "output_type": "stream",
          "name": "stdout",
          "text": [
            "Current temp: 36.6\n",
            "Current temp: 38.0\n",
            "Current temp: 39.4\n"
          ]
        }
      ]
    },
    {
      "cell_type": "markdown",
      "source": [
        "## If conditions\n",
        " Now, just printing isn't that useful – let's add a decision. We can use an if statement inside the loop to flag which temperatures indicate fever. In medicine, we might say >37.5°C is a fever. We can code that logic:\n"
      ],
      "metadata": {
        "id": "7rdtJJbTlPGP"
      }
    },
    {
      "cell_type": "code",
      "source": [
        "for temp in temperatures:\n",
        "    if temp > 37.5:\n",
        "        print(temp, \"-> High fever! 🔥\")\n",
        "    else:\n",
        "        print(temp, \"-> Normal\")\n"
      ],
      "metadata": {
        "colab": {
          "base_uri": "https://localhost:8080/"
        },
        "id": "UwYHv5DKlVTd",
        "outputId": "d7db7329-073a-41bf-8c16-bb32901faaef"
      },
      "execution_count": null,
      "outputs": [
        {
          "output_type": "stream",
          "name": "stdout",
          "text": [
            "36.6 -> Normal\n",
            "38.0 -> High fever! 🔥\n",
            "39.4 -> High fever! 🔥\n"
          ]
        }
      ]
    },
    {
      "cell_type": "markdown",
      "source": [
        "We introduced an if/else:\n",
        "\n",
        "- If the condition temp > 37.5 is true, we execute the first block (print \"High fever! 🔥\").\n",
        "\n",
        "- Otherwise (else), we execute the second block (print \"Normal\").\n",
        "\n",
        "The 🔥 emoji is just for fun to highlight fevers.\n",
        "(Yes, you can include emojis in Python strings!) This small snippet combined a loop and a conditional check it went through each temperature and made a decision for each. You could imagine extending this: e.g., if fever, maybe alert the user or increment a counter of how many fevers were found, etc.\n",
        "\n",
        "*Analogy*: Loops are like doing the same test on every sample in a batch, or like a nurse checking each patient in a ward one by one. If/else statements are like triaging: if a patient is critical, send to ICU, else send them to a normal ward."
      ],
      "metadata": {
        "id": "rfI0I5PElkQe"
      }
    },
    {
      "cell_type": "markdown",
      "source": [
        "## Exercise 2"
      ],
      "metadata": {
        "id": "Aly44m-FmCFh"
      }
    },
    {
      "cell_type": "markdown",
      "source": [
        "Add a new temperature to the list (e.g., 37.0) and re-run the loop. Does it correctly label it as normal?"
      ],
      "metadata": {
        "id": "nXoFtqvZmPF7"
      }
    },
    {
      "cell_type": "code",
      "source": [],
      "metadata": {
        "id": "vG84_AwFl-t_"
      },
      "execution_count": null,
      "outputs": []
    },
    {
      "cell_type": "markdown",
      "source": [
        "Change the fever threshold to 38.0 in the code (replace 37.5 with 38.0) and run again. Now 38.0°C would be considered normal (because it’s not greater than 38.0). This shows how a simple code change can adjust your logic."
      ],
      "metadata": {
        "id": "GZCYPfUQmDeg"
      }
    },
    {
      "cell_type": "code",
      "source": [],
      "metadata": {
        "id": "-gMr_AiPmDoG"
      },
      "execution_count": null,
      "outputs": []
    },
    {
      "cell_type": "markdown",
      "source": [
        "Extra: Create a list of blood pressure readings and write a loop to print which ones are above a certain threshold (you decide the threshold)."
      ],
      "metadata": {
        "id": "-NKmm5nhmDw3"
      }
    },
    {
      "cell_type": "code",
      "source": [
        "# prompt: Create a list of blood pressure readings (100/50, 60/40, 110/60) and write a loop to print which ones are above a certain threshold where mean arterial pressure < 50.\n",
        "\n",
        "blood_pressure_readings = [\"100/50\", \"60/40\", \"110/60\"]\n",
        "threshold = 50  # Mean Arterial Pressure threshold\n",
        "\n",
        "for reading in blood_pressure_readings:\n",
        "    systolic, diastolic = map(int, reading.split(\"/\"))\n",
        "    map_value = (1/3) * systolic + (2/3) * diastolic\n",
        "    if map_value < threshold:\n",
        "        print(f\"Blood pressure reading {reading} is below the threshold (MAP: {map_value})\")\n"
      ],
      "metadata": {
        "colab": {
          "base_uri": "https://localhost:8080/"
        },
        "id": "KW8eIGXNmD53",
        "outputId": "1b2f5f48-222b-4a81-91fd-fac8dce2f5c4"
      },
      "execution_count": null,
      "outputs": [
        {
          "output_type": "stream",
          "name": "stdout",
          "text": [
            "Blood pressure reading 60/40 is below the threshold (MAP: 46.666666666666664)\n"
          ]
        }
      ]
    },
    {
      "cell_type": "markdown",
      "source": [],
      "metadata": {
        "id": "xc4VQvximEB3"
      }
    },
    {
      "cell_type": "markdown",
      "source": [
        "# Functions (Reusable Code Blocks)"
      ],
      "metadata": {
        "id": "u0Y7z699nC_y"
      }
    },
    {
      "cell_type": "markdown",
      "source": [
        "Functions are a way to package a set of instructions so you can reuse them with different inputs. Think of a function like a recipe or a medical protocol: you define it once, and then you can use it whenever needed, without rewriting all the steps. In Python, we define a function using the def keyword, give it a name, parameters (inputs) in parentheses, and a block of code. For example, let's define a simple function to categorize a Hodgkin lymphoma stage into \"Early-stage\" vs \"Advanced-stage\" disease:"
      ],
      "metadata": {
        "id": "YeC6GY4znZ8V"
      }
    },
    {
      "cell_type": "code",
      "source": [
        "def classify_stage(stage):\n",
        "    if stage <= 2:\n",
        "        return \"Early-stage\"\n",
        "    else:\n",
        "        return \"Advanced-stage\"\n"
      ],
      "metadata": {
        "id": "veGe16l1nZBE"
      },
      "execution_count": null,
      "outputs": []
    },
    {
      "cell_type": "markdown",
      "source": [
        "This function classify_stage takes one input (stage). Inside, it uses an if/else to decide the return value. If stage is 1 or 2, it returns \"Early-stage\"; if 3 or 4, it returns \"Advanced-stage\". Notice the indentation – Python uses indentation (spaces) to define blocks of code under the function and under the if/else. Colab will help by auto-indenting after you type a : and press Enter."
      ],
      "metadata": {
        "id": "6Y6miryGnfQK"
      }
    },
    {
      "cell_type": "code",
      "source": [
        "print(classify_stage(1))  # Stage I -> expected \"Early-stage\"\n",
        "print(classify_stage(4))  # Stage IV -> expected \"Advanced-stage\"\n"
      ],
      "metadata": {
        "colab": {
          "base_uri": "https://localhost:8080/"
        },
        "id": "LS_YCgkpngF_",
        "outputId": "fe71183e-32d4-4b9e-8cd5-b4690ea62d6e"
      },
      "execution_count": null,
      "outputs": [
        {
          "output_type": "stream",
          "name": "stdout",
          "text": [
            "Early-stage\n",
            "Advanced-stage\n"
          ]
        }
      ]
    },
    {
      "cell_type": "markdown",
      "source": [
        "We can call classify_stage for any stage number now, and it will consistently apply the rule we wrote. Functions can have multiple parameters as well. For instance, you might have a function to calculate Body Mass Index:"
      ],
      "metadata": {
        "id": "Vlrs2GMInnmZ"
      }
    },
    {
      "cell_type": "code",
      "source": [
        "def calculate_bmi(weight_kg, height_m):\n",
        "    bmi = weight_kg / (height_m ** 2)\n",
        "    return bmi\n",
        "\n",
        "print(calculate_bmi(50, 1.6))  # 50 kg, 1.6 m height\n"
      ],
      "metadata": {
        "colab": {
          "base_uri": "https://localhost:8080/"
        },
        "id": "ZrKE65junq41",
        "outputId": "6e50197e-1257-4a4b-e0df-b3b0d8a6228e"
      },
      "execution_count": null,
      "outputs": [
        {
          "output_type": "stream",
          "name": "stdout",
          "text": [
            "19.531249999999996\n"
          ]
        }
      ]
    },
    {
      "cell_type": "markdown",
      "source": [
        "This would output a BMI value (around 19.5 for those numbers). The details of BMI aren't central here, but it shows how a function can take inputs and produce an output (using return). The return statement hands back the result to wherever the function was called.\n",
        "\n",
        "*Analogy*: A function is like a diagnostic test – you provide a sample (input), and it gives you a result (output) after processing. Once a test is developed, any patient sample can go through it to get a result, without redesigning the test each time. By organizing code into functions, you make it more modular and readable. If you have a complex calculation you'll do often, define it as a function and then your main code becomes much cleaner (“just call the function”)."
      ],
      "metadata": {
        "id": "sNCTj1RIn6Hi"
      }
    },
    {
      "cell_type": "markdown",
      "source": [
        "### Exercise 3"
      ],
      "metadata": {
        "id": "RJUKyDWEoGQT"
      }
    },
    {
      "cell_type": "markdown",
      "source": [
        "Define a function greet_doctor(name) that takes a name and returns a greeting like \"Hello Dr. <name>, welcome!\""
      ],
      "metadata": {
        "id": "9cyly7SBoGq0"
      }
    },
    {
      "cell_type": "code",
      "source": [],
      "metadata": {
        "id": "94GJSFuXoHXB"
      },
      "execution_count": null,
      "outputs": []
    },
    {
      "cell_type": "markdown",
      "source": [
        "Test your function by calling it with a few different names."
      ],
      "metadata": {
        "id": "wAF6kvq0oHgA"
      }
    },
    {
      "cell_type": "code",
      "source": [],
      "metadata": {
        "id": "Z2QnHSNDoHnl"
      },
      "execution_count": null,
      "outputs": []
    },
    {
      "cell_type": "markdown",
      "source": [
        "Modify the classify_stage function to handle an edge case: if stage is 0 or not 1-4, have it return \"Unknown stage\" (hint: use an if before the others to check if stage not in [1,2,3,4])."
      ],
      "metadata": {
        "id": "s-SPZaCmoHvv"
      }
    },
    {
      "cell_type": "code",
      "source": [],
      "metadata": {
        "id": "qdKCmJV1oH24"
      },
      "execution_count": null,
      "outputs": []
    },
    {
      "cell_type": "markdown",
      "source": [
        "# Using Libraries (Importing Modules)"
      ],
      "metadata": {
        "id": "y7NQG5gKoH_U"
      }
    },
    {
      "cell_type": "markdown",
      "source": [
        "One of Python’s superpowers is its rich ecosystem of libraries (also called modules or packages). Libraries are like add-on toolkits that provide extra functions and capabilities. For example, there are libraries for scientific computing, for making plots, for machine learning, and much more. We'll use some libraries later for data analysis (like pandas and matplotlib)."
      ],
      "metadata": {
        "id": "FX226mFvofOY"
      }
    },
    {
      "cell_type": "markdown",
      "source": [
        "To use a library, you first import it. Python has many built-in libraries (like math, datetime, etc.), and thousands of external ones you can install. In Colab, many common libraries (numpy, pandas, matplotlib, etc.) are pre-installed."
      ],
      "metadata": {
        "id": "t_P6GtQeofHz"
      }
    },
    {
      "cell_type": "markdown",
      "source": [
        "Let's see a quick example with the built-in math library:"
      ],
      "metadata": {
        "id": "xJmxTaLdofBE"
      }
    },
    {
      "cell_type": "code",
      "source": [
        "import math\n",
        "value = math.sqrt(16)\n",
        "print(\"Square root of 16 is:\", value)"
      ],
      "metadata": {
        "id": "IWt38_1fpB8H"
      },
      "execution_count": null,
      "outputs": []
    },
    {
      "cell_type": "code",
      "source": [
        "from math import sqrt\n",
        "value = sqrt(16)\n",
        "print(\"Square root of 16 is:\", value)\n"
      ],
      "metadata": {
        "colab": {
          "base_uri": "https://localhost:8080/"
        },
        "id": "TnwAn5tHolOl",
        "outputId": "bfe9041e-8929-4ccc-9bcc-fb90299feda8"
      },
      "execution_count": null,
      "outputs": [
        {
          "output_type": "stream",
          "name": "stdout",
          "text": [
            "Square root of 16 is: 4.0\n",
            "Square root of 16 is: 4.0\n"
          ]
        }
      ]
    },
    {
      "cell_type": "markdown",
      "source": [
        "This should output Square root of 16 is: 4.0. We did import math (bringing in the math module), and then used math.sqrt() function to compute a square root. The math library has many math functions (try math.log, math.sin, etc.)."
      ],
      "metadata": {
        "id": "ZJ5lZld_pGR9"
      }
    },
    {
      "cell_type": "markdown",
      "source": [
        "We’ll soon use pandas (for data handling) and matplotlib (for plotting). When we do, we’ll write import pandas as pd and import matplotlib.pyplot as plt – the as pd and as plt are just aliases to save typing."
      ],
      "metadata": {
        "id": "DQNS0oiopGFD"
      }
    },
    {
      "cell_type": "markdown",
      "source": [
        "*Note* : You only need to import a library once at the top of your notebook or code. After that, you can use its functions."
      ],
      "metadata": {
        "id": "v03XGJlWpF1w"
      }
    },
    {
      "cell_type": "markdown",
      "source": [
        "Libraries allow you to accomplish complex tasks with just a few lines of code because others have developed and tested these tools for you. This is especially useful in medical data analysis – why write a statistical function from scratch if a trusted library can do it?"
      ],
      "metadata": {
        "id": "QD62Y4l0pPYu"
      }
    },
    {
      "cell_type": "markdown",
      "source": [
        "### Exercise 4"
      ],
      "metadata": {
        "id": "FiSpXvkEpRYy"
      }
    },
    {
      "cell_type": "markdown",
      "source": [
        "import random and then use random.choice([list]) to pick a random element from a list of your choice (e.g., random.choice of a list of patient names)."
      ],
      "metadata": {
        "id": "n927ewdupR4i"
      }
    },
    {
      "cell_type": "code",
      "source": [
        "# prompt: import random and then use random.choice([list]) to pick a random element from a list of my patients (John, Samir, Helen)\n",
        "\n",
        "random_patient = random.choice([\"John\", \"Samir\", \"Helen\"])\n",
        "random_patient\n"
      ],
      "metadata": {
        "colab": {
          "base_uri": "https://localhost:8080/",
          "height": 35
        },
        "id": "t6X6zeEmpSVa",
        "outputId": "08c1cf99-ddbf-4c4d-cbab-a2b523a91f6d"
      },
      "execution_count": null,
      "outputs": [
        {
          "output_type": "execute_result",
          "data": {
            "text/plain": [
              "'John'"
            ],
            "application/vnd.google.colaboratory.intrinsic+json": {
              "type": "string"
            }
          },
          "metadata": {},
          "execution_count": 22
        }
      ]
    },
    {
      "cell_type": "markdown",
      "source": [
        "import datetime and use datetime.datetime.now() to get the current date and time (just to see an example of using a slightly larger library)."
      ],
      "metadata": {
        "id": "sSQI-sJvpSgH"
      }
    },
    {
      "cell_type": "code",
      "source": [
        "# prompt: import datetime and use datetime.datetime.now() to get the current date and time\n",
        "\n",
        "import datetime\n",
        "\n",
        "# ... (rest of your existing code)\n",
        "\n",
        "# Get the current date and time\n",
        "current_datetime = datetime.datetime.now()\n",
        "print(\"Current date and time:\", current_datetime)\n"
      ],
      "metadata": {
        "id": "vD6mWx5RpSqi"
      },
      "execution_count": null,
      "outputs": []
    },
    {
      "cell_type": "markdown",
      "source": [
        "# Data Analysis & Visualization"
      ],
      "metadata": {
        "id": "LX0Jx561nPeu"
      }
    },
    {
      "cell_type": "markdown",
      "source": [
        "One of the powerful things about Python is how it can help you make sense of data. In research or clinical practice, you might encounter datasets – for example, a list of patients with various attributes. We’ll simulate that now with a synthetic dataset for Hodgkin lymphoma patients."
      ],
      "metadata": {
        "id": "Jm2NpqxJnWc2"
      }
    },
    {
      "cell_type": "markdown",
      "source": [
        "*Scenario*: Imagine we have collected data on 20 pediatric Hodgkin lymphoma cases. For privacy and simplicity, we'll use synthetic (fake) data that resembles what you might see in a real registry, but randomly generated. This way we can practice without any real patient information."
      ],
      "metadata": {
        "id": "PGXdxZxVnVlL"
      }
    },
    {
      "cell_type": "markdown",
      "source": [
        "Our dataset (let's call it df for DataFrame, a table-like data structure from the pandas library) has the following columns for each patient:\n",
        "- PatientID – an identifier (1 through 20).\n",
        "- Age – age of the patient in years.\n",
        "- Gender – M or F.\n",
        "- Stage – disease stage (1, 2, 3, or 4).\n",
        "- B_symptoms – whether \"B symptoms\" (fever, night sweats, weight loss) are present (Yes/No).\n",
        "- Outcome – outcome after treatment, e.g., Remission or Relapse."
      ],
      "metadata": {
        "id": "i4zrnwIQnsr3"
      }
    },
    {
      "cell_type": "markdown",
      "source": [],
      "metadata": {
        "id": "bZTDC-PEntUW"
      }
    },
    {
      "cell_type": "markdown",
      "source": [
        "Let's load this data into a pandas DataFrame and take a peek at the first few entries. (In a real scenario, you might load data from a CSV file with pd.read_csv, but here we'll create it directly for demonstration.)"
      ],
      "metadata": {
        "id": "bHsRTh0en3o-"
      }
    },
    {
      "cell_type": "code",
      "source": [
        "import pandas as pd\n",
        "\n",
        "# Create a synthetic dataset\n",
        "data = {\n",
        "    \"PatientID\": list(range(1, 21)),\n",
        "    \"Age\": [19, 13, 17, 20, 16, 22, 13, 12, 20, 24, 15, 18, 20, 25, 14, 21, 15, 17, 23, 11],\n",
        "    \"Gender\": [\"F\",\"M\",\"M\",\"F\",\"M\",\"F\",\"F\",\"M\",\"F\",\"F\",\"M\",\"F\",\"F\",\"M\",\"M\",\"M\",\"F\",\"M\",\"F\",\"F\"],\n",
        "    \"Stage\": [1,1,1,1,1,1,2,2,2,2,3,3,3,3,3,3,4,4,4,4],\n",
        "    \"B_symptoms\": [\"Yes\",\"No\",\"Yes\",\"No\",\"No\",\"No\",\"Yes\",\"No\",\"No\",\"No\",\"Yes\",\"Yes\",\"No\",\"Yes\",\"Yes\",\"Yes\",\"Yes\",\"No\",\"Yes\",\"Yes\"],\n",
        "    \"Outcome\": [\"Remission\",\"Remission\",\"Relapse\",\"Relapse\",\"Remission\",\"Remission\",\"Remission\",\"Remission\",\"Remission\",\"Remission\",\n",
        "                \"Remission\",\"Remission\",\"Remission\",\"Remission\",\"Remission\",\"Remission\",\"Relapse\",\"Remission\",\"Remission\",\"Remission\"]\n",
        "}\n",
        "df = pd.DataFrame(data)\n",
        "df.head()\n"
      ],
      "metadata": {
        "colab": {
          "base_uri": "https://localhost:8080/",
          "height": 206
        },
        "id": "_KEMTLykn5cK",
        "outputId": "f0b1bf48-1f9a-491e-924f-e307363e4010"
      },
      "execution_count": 2,
      "outputs": [
        {
          "output_type": "execute_result",
          "data": {
            "text/plain": [
              "   PatientID  Age Gender  Stage B_symptoms    Outcome\n",
              "0          1   19      F      1        Yes  Remission\n",
              "1          2   13      M      1         No  Remission\n",
              "2          3   17      M      1        Yes    Relapse\n",
              "3          4   20      F      1         No    Relapse\n",
              "4          5   16      M      1         No  Remission"
            ],
            "text/html": [
              "\n",
              "  <div id=\"df-24f51c0e-18e8-4635-9cde-8fcbee0163d9\" class=\"colab-df-container\">\n",
              "    <div>\n",
              "<style scoped>\n",
              "    .dataframe tbody tr th:only-of-type {\n",
              "        vertical-align: middle;\n",
              "    }\n",
              "\n",
              "    .dataframe tbody tr th {\n",
              "        vertical-align: top;\n",
              "    }\n",
              "\n",
              "    .dataframe thead th {\n",
              "        text-align: right;\n",
              "    }\n",
              "</style>\n",
              "<table border=\"1\" class=\"dataframe\">\n",
              "  <thead>\n",
              "    <tr style=\"text-align: right;\">\n",
              "      <th></th>\n",
              "      <th>PatientID</th>\n",
              "      <th>Age</th>\n",
              "      <th>Gender</th>\n",
              "      <th>Stage</th>\n",
              "      <th>B_symptoms</th>\n",
              "      <th>Outcome</th>\n",
              "    </tr>\n",
              "  </thead>\n",
              "  <tbody>\n",
              "    <tr>\n",
              "      <th>0</th>\n",
              "      <td>1</td>\n",
              "      <td>19</td>\n",
              "      <td>F</td>\n",
              "      <td>1</td>\n",
              "      <td>Yes</td>\n",
              "      <td>Remission</td>\n",
              "    </tr>\n",
              "    <tr>\n",
              "      <th>1</th>\n",
              "      <td>2</td>\n",
              "      <td>13</td>\n",
              "      <td>M</td>\n",
              "      <td>1</td>\n",
              "      <td>No</td>\n",
              "      <td>Remission</td>\n",
              "    </tr>\n",
              "    <tr>\n",
              "      <th>2</th>\n",
              "      <td>3</td>\n",
              "      <td>17</td>\n",
              "      <td>M</td>\n",
              "      <td>1</td>\n",
              "      <td>Yes</td>\n",
              "      <td>Relapse</td>\n",
              "    </tr>\n",
              "    <tr>\n",
              "      <th>3</th>\n",
              "      <td>4</td>\n",
              "      <td>20</td>\n",
              "      <td>F</td>\n",
              "      <td>1</td>\n",
              "      <td>No</td>\n",
              "      <td>Relapse</td>\n",
              "    </tr>\n",
              "    <tr>\n",
              "      <th>4</th>\n",
              "      <td>5</td>\n",
              "      <td>16</td>\n",
              "      <td>M</td>\n",
              "      <td>1</td>\n",
              "      <td>No</td>\n",
              "      <td>Remission</td>\n",
              "    </tr>\n",
              "  </tbody>\n",
              "</table>\n",
              "</div>\n",
              "    <div class=\"colab-df-buttons\">\n",
              "\n",
              "  <div class=\"colab-df-container\">\n",
              "    <button class=\"colab-df-convert\" onclick=\"convertToInteractive('df-24f51c0e-18e8-4635-9cde-8fcbee0163d9')\"\n",
              "            title=\"Convert this dataframe to an interactive table.\"\n",
              "            style=\"display:none;\">\n",
              "\n",
              "  <svg xmlns=\"http://www.w3.org/2000/svg\" height=\"24px\" viewBox=\"0 -960 960 960\">\n",
              "    <path d=\"M120-120v-720h720v720H120Zm60-500h600v-160H180v160Zm220 220h160v-160H400v160Zm0 220h160v-160H400v160ZM180-400h160v-160H180v160Zm440 0h160v-160H620v160ZM180-180h160v-160H180v160Zm440 0h160v-160H620v160Z\"/>\n",
              "  </svg>\n",
              "    </button>\n",
              "\n",
              "  <style>\n",
              "    .colab-df-container {\n",
              "      display:flex;\n",
              "      gap: 12px;\n",
              "    }\n",
              "\n",
              "    .colab-df-convert {\n",
              "      background-color: #E8F0FE;\n",
              "      border: none;\n",
              "      border-radius: 50%;\n",
              "      cursor: pointer;\n",
              "      display: none;\n",
              "      fill: #1967D2;\n",
              "      height: 32px;\n",
              "      padding: 0 0 0 0;\n",
              "      width: 32px;\n",
              "    }\n",
              "\n",
              "    .colab-df-convert:hover {\n",
              "      background-color: #E2EBFA;\n",
              "      box-shadow: 0px 1px 2px rgba(60, 64, 67, 0.3), 0px 1px 3px 1px rgba(60, 64, 67, 0.15);\n",
              "      fill: #174EA6;\n",
              "    }\n",
              "\n",
              "    .colab-df-buttons div {\n",
              "      margin-bottom: 4px;\n",
              "    }\n",
              "\n",
              "    [theme=dark] .colab-df-convert {\n",
              "      background-color: #3B4455;\n",
              "      fill: #D2E3FC;\n",
              "    }\n",
              "\n",
              "    [theme=dark] .colab-df-convert:hover {\n",
              "      background-color: #434B5C;\n",
              "      box-shadow: 0px 1px 3px 1px rgba(0, 0, 0, 0.15);\n",
              "      filter: drop-shadow(0px 1px 2px rgba(0, 0, 0, 0.3));\n",
              "      fill: #FFFFFF;\n",
              "    }\n",
              "  </style>\n",
              "\n",
              "    <script>\n",
              "      const buttonEl =\n",
              "        document.querySelector('#df-24f51c0e-18e8-4635-9cde-8fcbee0163d9 button.colab-df-convert');\n",
              "      buttonEl.style.display =\n",
              "        google.colab.kernel.accessAllowed ? 'block' : 'none';\n",
              "\n",
              "      async function convertToInteractive(key) {\n",
              "        const element = document.querySelector('#df-24f51c0e-18e8-4635-9cde-8fcbee0163d9');\n",
              "        const dataTable =\n",
              "          await google.colab.kernel.invokeFunction('convertToInteractive',\n",
              "                                                    [key], {});\n",
              "        if (!dataTable) return;\n",
              "\n",
              "        const docLinkHtml = 'Like what you see? Visit the ' +\n",
              "          '<a target=\"_blank\" href=https://colab.research.google.com/notebooks/data_table.ipynb>data table notebook</a>'\n",
              "          + ' to learn more about interactive tables.';\n",
              "        element.innerHTML = '';\n",
              "        dataTable['output_type'] = 'display_data';\n",
              "        await google.colab.output.renderOutput(dataTable, element);\n",
              "        const docLink = document.createElement('div');\n",
              "        docLink.innerHTML = docLinkHtml;\n",
              "        element.appendChild(docLink);\n",
              "      }\n",
              "    </script>\n",
              "  </div>\n",
              "\n",
              "\n",
              "<div id=\"df-cf519792-43d1-46e0-8ce8-1ede3fdac5e9\">\n",
              "  <button class=\"colab-df-quickchart\" onclick=\"quickchart('df-cf519792-43d1-46e0-8ce8-1ede3fdac5e9')\"\n",
              "            title=\"Suggest charts\"\n",
              "            style=\"display:none;\">\n",
              "\n",
              "<svg xmlns=\"http://www.w3.org/2000/svg\" height=\"24px\"viewBox=\"0 0 24 24\"\n",
              "     width=\"24px\">\n",
              "    <g>\n",
              "        <path d=\"M19 3H5c-1.1 0-2 .9-2 2v14c0 1.1.9 2 2 2h14c1.1 0 2-.9 2-2V5c0-1.1-.9-2-2-2zM9 17H7v-7h2v7zm4 0h-2V7h2v10zm4 0h-2v-4h2v4z\"/>\n",
              "    </g>\n",
              "</svg>\n",
              "  </button>\n",
              "\n",
              "<style>\n",
              "  .colab-df-quickchart {\n",
              "      --bg-color: #E8F0FE;\n",
              "      --fill-color: #1967D2;\n",
              "      --hover-bg-color: #E2EBFA;\n",
              "      --hover-fill-color: #174EA6;\n",
              "      --disabled-fill-color: #AAA;\n",
              "      --disabled-bg-color: #DDD;\n",
              "  }\n",
              "\n",
              "  [theme=dark] .colab-df-quickchart {\n",
              "      --bg-color: #3B4455;\n",
              "      --fill-color: #D2E3FC;\n",
              "      --hover-bg-color: #434B5C;\n",
              "      --hover-fill-color: #FFFFFF;\n",
              "      --disabled-bg-color: #3B4455;\n",
              "      --disabled-fill-color: #666;\n",
              "  }\n",
              "\n",
              "  .colab-df-quickchart {\n",
              "    background-color: var(--bg-color);\n",
              "    border: none;\n",
              "    border-radius: 50%;\n",
              "    cursor: pointer;\n",
              "    display: none;\n",
              "    fill: var(--fill-color);\n",
              "    height: 32px;\n",
              "    padding: 0;\n",
              "    width: 32px;\n",
              "  }\n",
              "\n",
              "  .colab-df-quickchart:hover {\n",
              "    background-color: var(--hover-bg-color);\n",
              "    box-shadow: 0 1px 2px rgba(60, 64, 67, 0.3), 0 1px 3px 1px rgba(60, 64, 67, 0.15);\n",
              "    fill: var(--button-hover-fill-color);\n",
              "  }\n",
              "\n",
              "  .colab-df-quickchart-complete:disabled,\n",
              "  .colab-df-quickchart-complete:disabled:hover {\n",
              "    background-color: var(--disabled-bg-color);\n",
              "    fill: var(--disabled-fill-color);\n",
              "    box-shadow: none;\n",
              "  }\n",
              "\n",
              "  .colab-df-spinner {\n",
              "    border: 2px solid var(--fill-color);\n",
              "    border-color: transparent;\n",
              "    border-bottom-color: var(--fill-color);\n",
              "    animation:\n",
              "      spin 1s steps(1) infinite;\n",
              "  }\n",
              "\n",
              "  @keyframes spin {\n",
              "    0% {\n",
              "      border-color: transparent;\n",
              "      border-bottom-color: var(--fill-color);\n",
              "      border-left-color: var(--fill-color);\n",
              "    }\n",
              "    20% {\n",
              "      border-color: transparent;\n",
              "      border-left-color: var(--fill-color);\n",
              "      border-top-color: var(--fill-color);\n",
              "    }\n",
              "    30% {\n",
              "      border-color: transparent;\n",
              "      border-left-color: var(--fill-color);\n",
              "      border-top-color: var(--fill-color);\n",
              "      border-right-color: var(--fill-color);\n",
              "    }\n",
              "    40% {\n",
              "      border-color: transparent;\n",
              "      border-right-color: var(--fill-color);\n",
              "      border-top-color: var(--fill-color);\n",
              "    }\n",
              "    60% {\n",
              "      border-color: transparent;\n",
              "      border-right-color: var(--fill-color);\n",
              "    }\n",
              "    80% {\n",
              "      border-color: transparent;\n",
              "      border-right-color: var(--fill-color);\n",
              "      border-bottom-color: var(--fill-color);\n",
              "    }\n",
              "    90% {\n",
              "      border-color: transparent;\n",
              "      border-bottom-color: var(--fill-color);\n",
              "    }\n",
              "  }\n",
              "</style>\n",
              "\n",
              "  <script>\n",
              "    async function quickchart(key) {\n",
              "      const quickchartButtonEl =\n",
              "        document.querySelector('#' + key + ' button');\n",
              "      quickchartButtonEl.disabled = true;  // To prevent multiple clicks.\n",
              "      quickchartButtonEl.classList.add('colab-df-spinner');\n",
              "      try {\n",
              "        const charts = await google.colab.kernel.invokeFunction(\n",
              "            'suggestCharts', [key], {});\n",
              "      } catch (error) {\n",
              "        console.error('Error during call to suggestCharts:', error);\n",
              "      }\n",
              "      quickchartButtonEl.classList.remove('colab-df-spinner');\n",
              "      quickchartButtonEl.classList.add('colab-df-quickchart-complete');\n",
              "    }\n",
              "    (() => {\n",
              "      let quickchartButtonEl =\n",
              "        document.querySelector('#df-cf519792-43d1-46e0-8ce8-1ede3fdac5e9 button');\n",
              "      quickchartButtonEl.style.display =\n",
              "        google.colab.kernel.accessAllowed ? 'block' : 'none';\n",
              "    })();\n",
              "  </script>\n",
              "</div>\n",
              "\n",
              "    </div>\n",
              "  </div>\n"
            ],
            "application/vnd.google.colaboratory.intrinsic+json": {
              "type": "dataframe",
              "variable_name": "df",
              "summary": "{\n  \"name\": \"df\",\n  \"rows\": 20,\n  \"fields\": [\n    {\n      \"column\": \"PatientID\",\n      \"properties\": {\n        \"dtype\": \"number\",\n        \"std\": 5,\n        \"min\": 1,\n        \"max\": 20,\n        \"num_unique_values\": 20,\n        \"samples\": [\n          1,\n          18,\n          16\n        ],\n        \"semantic_type\": \"\",\n        \"description\": \"\"\n      }\n    },\n    {\n      \"column\": \"Age\",\n      \"properties\": {\n        \"dtype\": \"number\",\n        \"std\": 4,\n        \"min\": 11,\n        \"max\": 25,\n        \"num_unique_values\": 15,\n        \"samples\": [\n          18,\n          14,\n          19\n        ],\n        \"semantic_type\": \"\",\n        \"description\": \"\"\n      }\n    },\n    {\n      \"column\": \"Gender\",\n      \"properties\": {\n        \"dtype\": \"category\",\n        \"num_unique_values\": 2,\n        \"samples\": [\n          \"M\",\n          \"F\"\n        ],\n        \"semantic_type\": \"\",\n        \"description\": \"\"\n      }\n    },\n    {\n      \"column\": \"Stage\",\n      \"properties\": {\n        \"dtype\": \"number\",\n        \"std\": 1,\n        \"min\": 1,\n        \"max\": 4,\n        \"num_unique_values\": 4,\n        \"samples\": [\n          2,\n          4\n        ],\n        \"semantic_type\": \"\",\n        \"description\": \"\"\n      }\n    },\n    {\n      \"column\": \"B_symptoms\",\n      \"properties\": {\n        \"dtype\": \"category\",\n        \"num_unique_values\": 2,\n        \"samples\": [\n          \"No\",\n          \"Yes\"\n        ],\n        \"semantic_type\": \"\",\n        \"description\": \"\"\n      }\n    },\n    {\n      \"column\": \"Outcome\",\n      \"properties\": {\n        \"dtype\": \"category\",\n        \"num_unique_values\": 2,\n        \"samples\": [\n          \"Relapse\",\n          \"Remission\"\n        ],\n        \"semantic_type\": \"\",\n        \"description\": \"\"\n      }\n    }\n  ]\n}"
            }
          },
          "metadata": {},
          "execution_count": 2
        }
      ]
    },
    {
      "cell_type": "markdown",
      "source": [
        "The above code uses a dictionary to define columns and then creates a DataFrame. The df.head() displays the first five rows."
      ],
      "metadata": {
        "id": "I5ahIAadoDp3"
      }
    },
    {
      "cell_type": "markdown",
      "source": [
        "Now, with this dataset in df, we can start analyzing it. Pandas (pd) is a powerful library for data manipulation. You can think of df like an Excel table that we can query with code. Let's do some basic analysis:\n",
        "- How many patients are there? (len(df) or df.shape gives the number of rows)\n",
        "- What’s the average age?\n",
        "- How many patients in each stage?\n",
        "- What fraction had B symptoms? etc."
      ],
      "metadata": {
        "id": "GjRlsNsPoNuy"
      }
    },
    {
      "cell_type": "markdown",
      "source": [
        "- First, verify the number of patients and columns of df\n",
        "\n",
        "---\n",
        "\n"
      ],
      "metadata": {
        "id": "VTVa4fcVoqVX"
      }
    },
    {
      "cell_type": "code",
      "source": [
        "# prompt: First, verify the number of patients and columns of df\n",
        "\n",
        "# Print the number of patients (rows)\n",
        "print(\"Number of patients:\", len(df))\n",
        "\n",
        "# Print the number of columns\n",
        "print(\"Number of columns:\", len(df.columns))\n"
      ],
      "metadata": {
        "colab": {
          "base_uri": "https://localhost:8080/"
        },
        "id": "sgWdcTi7ozjQ",
        "outputId": "0f7ec342-3d80-49bc-9ecb-d206e6d96bce"
      },
      "execution_count": 4,
      "outputs": [
        {
          "output_type": "stream",
          "name": "stdout",
          "text": [
            "Number of patients: 20\n",
            "Number of columns: 6\n"
          ]
        }
      ]
    },
    {
      "cell_type": "markdown",
      "source": [
        "- Using pandas, we can get mean, max, min in one line each. For our synthetic data"
      ],
      "metadata": {
        "id": "GKcIBRVXovVn"
      }
    },
    {
      "cell_type": "code",
      "source": [],
      "metadata": {
        "id": "DgcWjappovfb"
      },
      "execution_count": null,
      "outputs": []
    },
    {
      "cell_type": "markdown",
      "source": [
        "- Let's see how many patients in each Stage:"
      ],
      "metadata": {
        "id": "czxPLchQovqw"
      }
    },
    {
      "cell_type": "code",
      "source": [],
      "metadata": {
        "id": "Eg_hpQMKov1y"
      },
      "execution_count": null,
      "outputs": []
    },
    {
      "cell_type": "markdown",
      "source": [
        "- Create a bar chart to visualize the number of patients in each stage"
      ],
      "metadata": {
        "id": "LbUCTHosowAY"
      }
    },
    {
      "cell_type": "code",
      "source": [
        "# prompt: Create a bar chart to visualize the number of patients in each stage, make x axis labels: I, II, III, IV not 1,2,3,4, and make sure the order is correct\n",
        "\n",
        "import matplotlib.pyplot as plt\n",
        "\n",
        "# Count the number of patients in each stage\n",
        "stage_counts = df['Stage'].value_counts().sort_index()\n",
        "\n",
        "# Create the bar chart\n",
        "plt.figure(figsize=(8, 6))\n",
        "plt.bar(stage_counts.index.astype(str), stage_counts.values)\n",
        "plt.xlabel(\"Stage\")\n",
        "plt.ylabel(\"Number of Patients\")\n",
        "plt.title(\"Number of Patients in Each Stage\")\n",
        "plt.xticks(stage_counts.index.astype(str), ['I', 'II', 'III', 'IV']) # Set x-axis labels\n",
        "plt.show()\n"
      ],
      "metadata": {
        "colab": {
          "base_uri": "https://localhost:8080/",
          "height": 564
        },
        "id": "kUwXe8jnowJ6",
        "outputId": "d1c3b1ac-83b7-4910-db75-f1f1598e39be"
      },
      "execution_count": 9,
      "outputs": [
        {
          "output_type": "display_data",
          "data": {
            "text/plain": [
              "<Figure size 800x600 with 1 Axes>"
            ],
            "image/png": "[encoded data removed]"
          },
          "metadata": {}
        }
      ]
    },
    {
      "cell_type": "markdown",
      "source": [
        "- Create a histogram showing the age distribution of our patients"
      ],
      "metadata": {
        "id": "1cJpGYBoqSgT"
      }
    },
    {
      "cell_type": "code",
      "source": [],
      "metadata": {
        "id": "AFrDXOgDq9o6"
      },
      "execution_count": null,
      "outputs": []
    },
    {
      "cell_type": "markdown",
      "source": [
        "- Make a table showing different outcomes of patients"
      ],
      "metadata": {
        "id": "3_vxBiFjrDjy"
      }
    },
    {
      "cell_type": "code",
      "source": [],
      "metadata": {
        "id": "M9e6LdyorU7K"
      },
      "execution_count": null,
      "outputs": []
    },
    {
      "cell_type": "markdown",
      "source": [
        "- Make a pie chart showing patients' outcomes"
      ],
      "metadata": {
        "id": "lMK6dEalrXIw"
      }
    },
    {
      "cell_type": "code",
      "source": [],
      "metadata": {
        "id": "mc1iuFgtrXTh"
      },
      "execution_count": null,
      "outputs": []
    },
    {
      "cell_type": "markdown",
      "source": [
        "### Exercise 5"
      ],
      "metadata": {
        "id": "6lgeAMgtrjX-"
      }
    },
    {
      "cell_type": "markdown",
      "source": [
        "- Calculate the median age of patients (df[\"Age\"].median())."
      ],
      "metadata": {
        "id": "z_9__Y6XrXdZ"
      }
    },
    {
      "cell_type": "code",
      "source": [],
      "metadata": {
        "id": "Mlqu0F5VrXmQ"
      },
      "execution_count": null,
      "outputs": []
    },
    {
      "cell_type": "markdown",
      "source": [
        "- What’s the average age for each Stage? Hint: Use df.groupby(\"Stage\")[\"Age\"].mean() – this groups data by stage and then calculates mean age in each group."
      ],
      "metadata": {
        "id": "RogN9U77rXve"
      }
    },
    {
      "cell_type": "code",
      "source": [],
      "metadata": {
        "id": "4jgRMhBLrX28"
      },
      "execution_count": null,
      "outputs": []
    },
    {
      "cell_type": "markdown",
      "source": [
        "- Create a filter to see data for Stage 3 patients only: df[df[\"Stage\"] == 3]. (You should see only rows where Stage is 3.)"
      ],
      "metadata": {
        "id": "IW3zIJylrX-b"
      }
    },
    {
      "cell_type": "code",
      "source": [],
      "metadata": {
        "id": "yQz79kTYrYFu"
      },
      "execution_count": null,
      "outputs": []
    },
    {
      "cell_type": "markdown",
      "source": [
        "- Modify the plotting code to visualize something else, e.g., replace \"Stage\" with \"B_symptoms\" to count how many had B symptoms vs not, or make a bar chart of Outcome counts."
      ],
      "metadata": {
        "id": "6FPsNl4TrYMm"
      }
    },
    {
      "cell_type": "code",
      "source": [],
      "metadata": {
        "id": "FTkFEPOsrYTq"
      },
      "execution_count": null,
      "outputs": []
    },
    {
      "cell_type": "markdown",
      "source": [],
      "metadata": {
        "id": "va-DDKqarYax"
      }
    },
    {
      "cell_type": "code",
      "source": [],
      "metadata": {
        "id": "6gqgHKVYrYhL"
      },
      "execution_count": null,
      "outputs": []
    },
    {
      "cell_type": "markdown",
      "source": [
        "Data analysis in Python becomes even more powerful with real datasets: you could import CSV files of clinical trials, perform statistical analysis (pandas can do basic stats; for advanced analysis you might use libraries like statsmodels or scikit-learn), and make publication-quality plots. Even in this small example, hopefully you see how quickly we got from raw data to meaningful info."
      ],
      "metadata": {
        "id": "QaC2w3OBr9Jp"
      }
    },
    {
      "cell_type": "markdown",
      "source": [
        "Real-world note: Python is extensively used in biomedical research for tasks like biostatistics, machine learning on patient data, and more. In fact, the study we referenced earlier used Python to train models predicting treatment response in pediatric Hodgkin lymphoma. As you grow more comfortable, you could leverage those same libraries (like scikit-learn) to explore predictive modeling on datasets (with guidance from a data scientist). But that’s beyond today’s intro – our goal here is to get you started and show what's possible."
      ],
      "metadata": {
        "id": "Bicz3aYJsBZa"
      }
    },
    {
      "cell_type": "markdown",
      "source": [
        "# Building Simple Interactive Applications"
      ],
      "metadata": {
        "id": "TiVjN38lsL3w"
      }
    },
    {
      "cell_type": "markdown",
      "source": [
        "So far, we've run code and seen output, which is already exciting. But Python (especially in Jupyter/Colab notebooks) can also create interactive widgets – little UI elements like sliders, dropdowns, buttons – that let you play with parameters without changing the code. This can turn a static analysis into a mini interactive app right inside the notebook."
      ],
      "metadata": {
        "id": "uAQanZResRW6"
      }
    },
    {
      "cell_type": "markdown",
      "source": [
        "Why is this useful? Because you can experiment in real-time. For example, adjust a slider to filter patients above a certain age and see the list update instantly, or input some values to get a calculated result (like a risk score). It makes data exploration and tool prototyping much more engaging."
      ],
      "metadata": {
        "id": "4MoO7ulFsRHu"
      }
    },
    {
      "cell_type": "markdown",
      "source": [
        "We'll use the ipywidgets library’s interact function, which automatically creates controls for interacting with functions​\n",
        "ipywidgets.readthedocs.io\n",
        ". In Colab, ipywidgets is usually pre-installed, but you might need to enable it by running !pip install ipywidgets if it ever doesn’t work. Let's try a simple interactive example:"
      ],
      "metadata": {
        "id": "C3pkCIzRsQcs"
      }
    },
    {
      "cell_type": "markdown",
      "source": [
        "## Filtering patients by age with a slider."
      ],
      "metadata": {
        "id": "agKMGfUZsapH"
      }
    },
    {
      "cell_type": "code",
      "source": [
        "from ipywidgets import interact\n",
        "\n",
        "def filter_by_min_age(min_age):\n",
        "    # Filter the DataFrame to only include patients with Age >= min_age\n",
        "    filtered = df[df[\"Age\"] >= min_age]\n",
        "    print(f\"Patients with age >= {min_age}: {len(filtered)}\")\n",
        "    display(filtered)  # display the filtered table\n",
        "\n",
        "# Create an interactive slider for min_age between 10 and 25\n",
        "interact(filter_by_min_age, min_age=(10, 25, 1))\n"
      ],
      "metadata": {
        "colab": {
          "base_uri": "https://localhost:8080/",
          "height": 562,
          "referenced_widgets": [
            "429105c44c064029bdae7dcf429a302c",
            "913587a1e2d9411d820e6276da899674",
            "97ad0035509a4ae380274631744a69c4",
            "b25ed706356d4e84b2b392b80ff87295",
            "0f4806312b6341abbfd6efc0b61523cf",
            "84da5b527582462f9e60416c2043209b",
            "afb1fff34d724f89ab508099ea645388"
          ]
        },
        "id": "b7BkqLbHsdj9",
        "outputId": "be9e14b9-9041-4588-a9ea-52486efeb9d2"
      },
      "execution_count": 17,
      "outputs": [
        {
          "output_type": "display_data",
          "data": {
            "text/plain": [
              "interactive(children=(IntSlider(value=17, description='min_age', max=25, min=10), Output()), _dom_classes=('wi…"
            ],
            "application/vnd.jupyter.widget-view+json": {
              "version_major": 2,
              "version_minor": 0,
              "model_id": "429105c44c064029bdae7dcf429a302c",
              "state":{}
            }
          },
          "metadata": {}
        },
        {
          "output_type": "execute_result",
          "data": {
            "text/plain": [
              "<function __main__.filter_by_min_age(min_age)>"
            ],
            "text/html": [
              "<div style=\"max-width:800px; border: 1px solid var(--colab-border-color);\"><style>\n",
              "      pre.function-repr-contents {\n",
              "        overflow-x: auto;\n",
              "        padding: 8px 12px;\n",
              "        max-height: 500px;\n",
              "      }\n",
              "\n",
              "      pre.function-repr-contents.function-repr-contents-collapsed {\n",
              "        cursor: pointer;\n",
              "        max-height: 100px;\n",
              "      }\n",
              "    </style>\n",
              "    <pre style=\"white-space: initial; background:\n",
              "         var(--colab-secondary-surface-color); padding: 8px 12px;\n",
              "         border-bottom: 1px solid var(--colab-border-color);\"><b>filter_by_min_age</b><br/>def filter_by_min_age(min_age)</pre><pre class=\"function-repr-contents function-repr-contents-collapsed\" style=\"\"><a class=\"filepath\" style=\"display:none\" href=\"#\">/content/&lt;ipython-input-17-38d180ac2467&gt;</a>&lt;no docstring&gt;</pre></div>"
            ]
          },
          "metadata": {},
          "execution_count": 17
        }
      ]
    },
    {
      "cell_type": "markdown",
      "source": [
        "When you run this cell in Colab, it will show a slider (labeled “min_age”) ranging from 10 to 25. Initially, it might default to the lower bound (10). As you move the slider, the filter_by_min_age function is called with the current slider value, and it prints how many patients meet the criteria and displays those patient rows.\n",
        "- Try moving the slider to 15, 18, 21, etc., and watch the output update immediately.\n",
        "- If you set min_age to 18, for example, it will show only patients aged 18 or older. You can quickly see how the cohort changes.\n"
      ],
      "metadata": {
        "id": "QLVRSWaqsmM3"
      }
    },
    {
      "cell_type": "markdown",
      "source": [
        "This little interactive tool could help you, say, focus on adolescent vs younger patients. You could similarly create filters for Stage or any other criterion. The interact function made it super easy – we just defined what we want to do (filter by age) and it handled the GUI part."
      ],
      "metadata": {
        "id": "p7hG4aGasmYA"
      }
    },
    {
      "cell_type": "markdown",
      "source": [
        "## A simple risk calculator widget."
      ],
      "metadata": {
        "id": "F20o_zLKsyRR"
      }
    },
    {
      "cell_type": "markdown",
      "source": [
        "Let's make a hypothetical risk assessment tool. Suppose (for the sake of example) we define “high risk” Hodgkin lymphoma patients as those with Stage III-IV or with B symptoms, and others are “standard risk”. We can create an interactive form that takes a patient's Stage and B symptoms status as inputs and outputs the risk category."
      ],
      "metadata": {
        "id": "OJDNhqiIs1xP"
      }
    },
    {
      "cell_type": "code",
      "source": [
        "def assess_risk(stage, b_symptoms):\n",
        "    if stage >= 3 or b_symptoms == \"Yes\":\n",
        "        print(f\"Stage {stage} with B symptoms({b_symptoms}) -> **High Risk**\")\n",
        "    else:\n",
        "        print(f\"Stage {stage} with B symptoms({b_symptoms}) -> Standard Risk\")\n",
        "\n",
        "interact(assess_risk,\n",
        "         stage=(1,4,1),\n",
        "         b_symptoms=[\"No\", \"Yes\"])\n"
      ],
      "metadata": {
        "colab": {
          "base_uri": "https://localhost:8080/",
          "height": 185,
          "referenced_widgets": [
            "a8e3daa024a84c1caef70a0d3653ed04",
            "8aa2c1eafade40f3ad2edc4b78a078c7",
            "2580f381425b4a099c9f6ddba87c4b97",
            "cfac7f7fb51143c58b190912bd062ea1",
            "907356cbd0ab422c96bf965e0acf6eba",
            "08ce85597f474ff0b72339d1e5085e13",
            "fd98bedb1406407995e9396d0491cca3",
            "05430ec6adea41fbb931d7587cba7142",
            "b715ee1560f743afa1597033176bce34",
            "4f52bd35ea0b4f8dbc438f9558d491b1"
          ]
        },
        "id": "c9Gj_7cNseCJ",
        "outputId": "e43e3e3f-c243-4b06-efa8-867f563c03d7"
      },
      "execution_count": 18,
      "outputs": [
        {
          "output_type": "display_data",
          "data": {
            "text/plain": [
              "interactive(children=(IntSlider(value=2, description='stage', max=4, min=1), Dropdown(description='b_symptoms'…"
            ],
            "application/vnd.jupyter.widget-view+json": {
              "version_major": 2,
              "version_minor": 0,
              "model_id": "a8e3daa024a84c1caef70a0d3653ed04"
            }
          },
          "metadata": {}
        },
        {
          "output_type": "execute_result",
          "data": {
            "text/plain": [
              "<function __main__.assess_risk(stage, b_symptoms)>"
            ],
            "text/html": [
              "<div style=\"max-width:800px; border: 1px solid var(--colab-border-color);\"><style>\n",
              "      pre.function-repr-contents {\n",
              "        overflow-x: auto;\n",
              "        padding: 8px 12px;\n",
              "        max-height: 500px;\n",
              "      }\n",
              "\n",
              "      pre.function-repr-contents.function-repr-contents-collapsed {\n",
              "        cursor: pointer;\n",
              "        max-height: 100px;\n",
              "      }\n",
              "    </style>\n",
              "    <pre style=\"white-space: initial; background:\n",
              "         var(--colab-secondary-surface-color); padding: 8px 12px;\n",
              "         border-bottom: 1px solid var(--colab-border-color);\"><b>assess_risk</b><br/>def assess_risk(stage, b_symptoms)</pre><pre class=\"function-repr-contents function-repr-contents-collapsed\" style=\"\"><a class=\"filepath\" style=\"display:none\" href=\"#\">/content/&lt;ipython-input-18-5e35a81ce482&gt;</a>&lt;no docstring&gt;</pre></div>"
            ]
          },
          "metadata": {},
          "execution_count": 18
        }
      ]
    },
    {
      "cell_type": "markdown",
      "source": [
        "### Exercise 6"
      ],
      "metadata": {
        "id": "40QFAiDCtHur"
      }
    },
    {
      "cell_type": "markdown",
      "source": [
        "- Change the assess_risk logic: for example, maybe only Stage IV or Stage III with B symptoms is \"High Risk\" and others are \"Standard\". Implement that rule and test it."
      ],
      "metadata": {
        "id": "OMbmzm0atM9z"
      }
    },
    {
      "cell_type": "code",
      "source": [],
      "metadata": {
        "id": "_dgyu_yZtHP6"
      },
      "execution_count": null,
      "outputs": []
    },
    {
      "cell_type": "markdown",
      "source": [
        "- Add a third input to assess_risk for something like bulk_disease (Yes/No) and include that in your risk criteria (you'll need to update both the function and the interact call with a new parameter, e.g., bulk=[\"No\",\"Yes\"])."
      ],
      "metadata": {
        "id": "A89zAOxktHGh"
      }
    },
    {
      "cell_type": "code",
      "source": [],
      "metadata": {
        "id": "vFfbRvUdtG80"
      },
      "execution_count": null,
      "outputs": []
    },
    {
      "cell_type": "markdown",
      "source": [
        "- Make an interactive plot: use interact to pick a Stage number and plot the age distribution of patients witht hat stage"
      ],
      "metadata": {
        "id": "uiLHbuvntGym"
      }
    },
    {
      "cell_type": "code",
      "source": [
        "# prompt: Make an interactive plot: use interact to pick a Stage number and plot the age distribution of patients witht hat stage\n",
        "\n",
        "import matplotlib.pyplot as plt\n",
        "def plot_age_distribution_by_stage(stage):\n",
        "    # Filter the DataFrame for the selected stage\n",
        "    stage_df = df[df[\"Stage\"] == stage]\n",
        "\n",
        "    # Create the histogram\n",
        "    plt.figure(figsize=(8, 6))\n",
        "    plt.hist(stage_df[\"Age\"], bins=5, edgecolor='black')  # Adjust bins as needed\n",
        "    plt.xlabel(\"Age\")\n",
        "    plt.ylabel(\"Number of Patients\")\n",
        "    plt.title(f\"Age Distribution for Stage {stage}\")\n",
        "    plt.show()\n",
        "\n",
        "interact(plot_age_distribution_by_stage, stage=(1, 4, 1));\n"
      ],
      "metadata": {
        "colab": {
          "base_uri": "https://localhost:8080/",
          "height": 596,
          "referenced_widgets": [
            "b9dca53c05b24b58ac20f1b351d14191",
            "e5cc2831721e47cdab9471f24148f7a6",
            "63492a973ce4482c83b9316e3ce87a39",
            "eb44a0b9137344a5818c75d30b1bb9af",
            "ddbfc8e90b5442199b4a2410eafd1168",
            "b468a23d8eb54d1e9ab5b4710f063078",
            "4ce864e487204613ab3633612b8c0624"
          ]
        },
        "id": "CRIws22YtGoe",
        "outputId": "29ad9a2f-d1f7-4e56-8d65-fe06d1f65e2b"
      },
      "execution_count": 19,
      "outputs": [
        {
          "output_type": "display_data",
          "data": {
            "text/plain": [
              "interactive(children=(IntSlider(value=2, description='stage', max=4, min=1), Output()), _dom_classes=('widget-…"
            ],
            "application/vnd.jupyter.widget-view+json": {
              "version_major": 2,
              "version_minor": 0,
              "model_id": "b9dca53c05b24b58ac20f1b351d14191"
            }
          },
          "metadata": {}
        }
      ]
    },
    {
      "cell_type": "markdown",
      "source": [
        "Interactive widgets are not only fun, but they also demonstrate the concept of building applications. In fact, there are tools like Streamlit or Dash that let you turn Python scripts into web apps for data analysis or clinical calculators with minimal code. What we did here in the notebook is a stepping stone towards that. You could prototype logic in a notebook with interact, and later a developer could help turn it into a full app for wider use."
      ],
      "metadata": {
        "id": "A0-k43AbtGcl"
      }
    },
    {
      "cell_type": "code",
      "source": [],
      "metadata": {
        "id": "0-yswnhotGPO"
      },
      "execution_count": null,
      "outputs": []
    },
    {
      "cell_type": "markdown",
      "source": [
        "#  Using the OpenAI API"
      ],
      "metadata": {
        "id": "smbAJNGKtFnd"
      }
    },
    {
      "cell_type": "markdown",
      "source": [
        "No modern tech workshop would be complete without mentioning AI! In particular, Large Language Models (LLMs) like OpenAI's GPT-4 have tremendous potential in healthcare.\n",
        "\n",
        "They can interpret and generate human-like text, which means they could help draft reports, explain medical terms to patients, triage information, and more (always with human oversight, of course). In this section, we'll introduce how to use the OpenAI API in Python. This will allow you to send a prompt to an AI model (like GPT-3.5 or GPT-4) and get a response, all from your code.\n",
        "\n",
        "Imagine integrating a \"clinical assistant\" that can answer questions or summarize text as part of your programs – that’s what this enables.\n",
        "\n",
        "**Important: ** To actually run OpenAI API calls, you need an API key (from an OpenAI account) and the openai Python library. In a live workshop, we might just demonstrate this (since not everyone will have API keys ready). Here we'll show the code, and you can try it later if you obtain a key."
      ],
      "metadata": {
        "id": "FAFx1x6nt1A7"
      }
    },
    {
      "cell_type": "markdown",
      "source": [
        "Steps to use OpenAI API in Colab:\n",
        "1. Install the OpenAI library: In a Colab cell, run !pip install openai. (The ! tells Colab to run a shell command to install the package.)\n",
        "2. Get your API key: Sign up on OpenAI’s website and get a personal API key from the dashboard. (Keep it secret, like a password.)\n",
        "3. Use the API in code: Import the library, set your API key, and call the model with a prompt.\n",
        "\n",
        "Let's see an example where we ask the AI to explain a medical concept in simple terms. Suppose we want to explain \"Stage II Hodgkin lymphoma\" to a patient in a reassuring way."
      ],
      "metadata": {
        "id": "9Cb5HhX2uHnq"
      }
    },
    {
      "cell_type": "code",
      "source": [
        "import os\n",
        "from openai import OpenAI\n",
        "\n",
        "client = OpenAI(\n",
        "    # This is the default and can be omitted\n",
        "    api_key=\"YOUR API KEY\",\n",
        ")\n",
        "\n",
        "response = client.responses.create(\n",
        "    model=\"gpt-4o-mini\",\n",
        "    instructions=\"You are a medical assistant.\",\n",
        "    input=\"how do you treat high risk Hodgkin lymphoma\",\n",
        ")\n",
        "\n",
        "print(response.output_text)"
      ],
      "metadata": {
        "colab": {
          "base_uri": "https://localhost:8080/"
        },
        "id": "oiFwn0Oht1LS",
        "outputId": "110cc3ff-97a4-4f67-cb83-2b2001e1581f"
      },
      "execution_count": 24,
      "outputs": [
        {
          "output_type": "stream",
          "name": "stdout",
          "text": [
            "Treating high-risk Hodgkin lymphoma typically involves a combination of treatments tailored to the patient's specific condition. Here are the common approaches:\n",
            "\n",
            "1. **Chemotherapy**: \n",
            "   - **ABVD Regimen**: The standard treatment often starts with the ABVD regimen (Adriamycin, Bleomycin, Vinblastine, and Dacarbazine). This may be adjusted based on the patient's response and side effects.\n",
            "   - **Escalated BEACOPP**: For high-risk patients, an escalated version of the BEACOPP regimen may be considered.\n",
            "\n",
            "2. **Radiation Therapy**: \n",
            "   - In many cases, particularly after chemotherapy, radiation therapy can be used to target any remaining cancer cells, especially in areas with bulky disease.\n",
            "\n",
            "3. **Stem Cell Transplant**: \n",
            "   - Patients who do not achieve remission after initial treatment or have relapsed disease may be candidates for high-dose chemotherapy followed by autologous stem cell transplantation.\n",
            "\n",
            "4. **Targeted Therapy and Immunotherapy**: \n",
            "   - Agents like brentuximab vedotin or checkpoint inhibitors (e.g., nivolumab and pembrolizumab) may be used, especially for relapsed or refractory disease.\n",
            "\n",
            "5. **Supportive Care**: \n",
            "   - Managing side effects and maintaining the patient’s quality of life through supportive care is also critical.\n",
            "\n",
            "6. **Clinical Trials**: \n",
            "   - Patients may also consider enrolling in clinical trials for the latest treatment options.\n",
            "\n",
            "Treatment plans depend on various factors including the stage of the disease, presence of B symptoms, patient’s overall health, and preferences. It's essential for treatment decisions to be made in collaboration with a healthcare team experienced in managing Hodgkin lymphoma. Regular follow-ups and monitoring of progress are crucial throughout the treatment process.\n"
          ]
        }
      ]
    },
    {
      "cell_type": "markdown",
      "source": [
        "Medical use-cases: You can see how such capabilities could be useful – from generating easy-to-understand explanations, drafting clinical notes or patient letters, summarizing long research articles, to even brainstorming research ideas. ChatGPT can process vast amounts of medical data (like guidelines, articles) and assist medical professionals in making informed decisions or creating patient-friendly communications​.\n",
        "\n",
        "Of course, any AI output should be verified by a professional (you!). It's a tool to augment your work, not replace human expertise. Ethical note: When using patient data with AI, one must ensure privacy (never share identifiable information with an external API unless it's compliant and allowed). Also, be aware of the model's limitations – it might sometimes produce incorrect or nonsensical answers (so-called \"hallucinations\"), so use it with caution in critical settings.\n",
        "\n",
        "That said, it’s a rapidly evolving field. From a coding perspective, integrating AI is just making API calls. We used OpenAI’s service here, but there are also local models and other platforms. The key takeaway is: with a few lines of Python, you can tap into incredibly powerful AI models. This bridges yet another gap – it means as clinicians you could automate some of the drudge work (like summarizing notes) and spend more time on decision-making."
      ],
      "metadata": {
        "id": "PQI8ymKit1Tk"
      }
    },
    {
      "cell_type": "markdown",
      "source": [
        "### Exercise 7"
      ],
      "metadata": {
        "id": "2BiOE7SZvpGf"
      }
    },
    {
      "cell_type": "markdown",
      "source": [
        "Change the prompt to ask something else, e.g., \"List 3 possible late side effects of chemotherapy for Hodgkin lymphoma in children.\" and see what it returns."
      ],
      "metadata": {
        "id": "c9diEgAJvpPG"
      }
    },
    {
      "cell_type": "code",
      "source": [],
      "metadata": {
        "id": "iwOoaYFZvql2"
      },
      "execution_count": null,
      "outputs": []
    },
    {
      "cell_type": "markdown",
      "source": [
        "Try a creative prompt: \"Invent a simple analogy to explain how immunotherapy works to a child.\""
      ],
      "metadata": {
        "id": "K2grn2-2vquR"
      }
    },
    {
      "cell_type": "code",
      "source": [],
      "metadata": {
        "id": "5Dg3CjxQvq2Q"
      },
      "execution_count": null,
      "outputs": []
    },
    {
      "cell_type": "markdown",
      "source": [
        "If you get a chance, experiment with different models (by changing \"model\" to \"text-davinci-003\" for the older GPT-3 model, or to \"gpt-4\" if you have access – GPT-4 tends to give even more detailed and accurate responses, albeit slower and more expensive)."
      ],
      "metadata": {
        "id": "9J9bpLD_vrAY"
      }
    },
    {
      "cell_type": "code",
      "source": [],
      "metadata": {
        "id": "7T7kOctqvrLY"
      },
      "execution_count": null,
      "outputs": []
    },
    {
      "cell_type": "markdown",
      "source": [
        "Remember, you can also feed it chunks of text to summarize. If you had a long pathology report in a string report_text, you could do prompt = \"Summarize the following report for me:\\n\" + report_text."
      ],
      "metadata": {
        "id": "420YrV7qvrTf"
      }
    },
    {
      "cell_type": "markdown",
      "source": [
        "By now, we’ve covered a lot: from Python basics to data analysis to interactive widgets to AI integration. Take a moment to appreciate how far you've come in just an hour! 🎉"
      ],
      "metadata": {
        "id": "Xgo8sb_BvrbE"
      }
    },
    {
      "cell_type": "markdown",
      "source": [
        "# Conclusion: Empowering Collaboration and Next Steps"
      ],
      "metadata": {
        "id": "W6DSFTTYv7G0"
      }
    },
    {
      "cell_type": "markdown",
      "source": [
        "In this 1-hour whirlwind tour, we've seen that even basic Python skills can open up a world of possibilities for healthcare professionals:\n",
        "You learned how to use variables, loops, and functions – the fundamental constructs that let you automate tasks and organize logic.\n",
        "You applied Python to a pediatric oncology dataset, performing data analysis and creating visualizations that turn raw numbers into insights. (Imagine doing this with your real patient data or research data – patterns and insights might emerge that could inform practice or hypotheses for study.)\n",
        "You built a mini interactive app in a notebook, demonstrating that you can quickly prototype tools (like a risk calculator or data filter) that react in real-time. This is the same concept behind many clinical decision support tools, just on a smaller scale.\n",
        "You got a glimpse of integrating AI through the OpenAI API, showing how advanced models can assist in generating human-like explanations or analyses, potentially speeding up documentation and research.\n",
        "Throughout, we tried to keep things fun and relevant – using analogies (variables as jars, loops as rounds, functions as reusable protocols) and even emojis to keep the mood light. Learning to code can feel like learning a new language (it literally is!), but by relating it to what you already know in medicine, it becomes much more approachable. Crucially, this knowledge empowers collaboration. Now that you understand the basics, you can better communicate with data scientists or software developers in your team. Instead of vaguely saying \"I have data, I need insights\", you can sketch out what you want – maybe even write a small script to illustrate it. You’ve seen how to manipulate data tables and produce graphs; you could do a quick analysis and then ask a statistician to double-check or suggest more sophisticated methods. By speaking a bit of the same language, projects become more efficient and less frustrating. As noted in a recent perspective, clinicians with data science skills can bridge the gap between clinical questions and technical solutions, working closely with statisticians and programmers to drive healthcare innovation​\n",
        "pmc.ncbi.nlm.nih.gov\n",
        ". Even if you don’t write code daily, just knowing what's possible is powerful. You might come up with ideas like \"what if we automate this tedious part of our workflow?\" or \"could we build a simple app for patients to report symptoms?\" – and you'll have a sense of how Python could be part of the solution. You can prototype the idea or collaborate with someone who can. In essence, you're becoming a part of the new generation of clinicians who are fluent in both medicine and technology, sometimes called clinician-data scientists or clinicians who code. This dual literacy will be increasingly valuable as healthcare continues to digitize. Next steps: If this workshop piqued your interest, here are some paths you can take:\n",
        "Practice, practice, practice: Try to reproduce what we did without looking at the answers. Modify things, break things (it's okay!), and see what errors come up – that's how you learn.\n",
        "Explore more data: Maybe take a public dataset (Kaggle has many health datasets) and apply the same analysis techniques. Or if you have de-identified data from a past research project, try analyzing it in Python.\n",
        "Learn with peers: Form a study group with interested colleagues. Share a Colab notebook and tackle a small project (e.g., analyze last year's patient admissions, or visualize some public health data).\n",
        "Advanced topics: When ready, venture into deeper waters – for example, visualization libraries like Seaborn or Plotly for more complex charts, machine learning with scikit-learn or TensorFlow (you could build a simple model to predict outcomes based on patient features), or bioinformatics libraries if relevant to your work.\n",
        "Leverage AI thoughtfully: Experiment with tools like GPT (as we did) to aid in writing or summarizing. There are even libraries like langchain that help build more complex AI-driven apps. But always be mindful of privacy and accuracy.\n",
        "Connect with the community: There are forums (like Stack Overflow, Reddit’s r/learnpython, etc.) and local meetups for \"coding clinicians\" or data science in medicine. You'll find you're not alone, and people are often eager to help beginners in tech.\n",
        "Finally, remember that the goal isn't to turn you into a full-time programmer (unless you discover a hidden passion for it!), but to give you enough literacy to innovate and collaborate. Whether it's improving patient outcomes through data insights, automating a boring admin task, or simply communicating better with your IT team, your Python skills are a tool for empowerment. As you continue, you'll be contributing to a culture where healthcare and technology work hand-in-hand. Thank you for participating in this workshop! We hope you found it engaging and enlightening. Keep experimenting with code, and don't be afraid – as the saying goes in programming, \"Debugging is twice as hard as writing the code in the first place. Therefore, if you write the code as cleverly as possible, you are (by definition) not smart enough to debug it.\" – which is a humorous way to remind us to keep things simple. You've started simply today, and you can build up from here. Happy coding, and all the best in bridging pediatric oncology with the power of Python! References:\n",
        "Python’s popularity in science and medicine​\n",
        "uit.stanford.edu\n",
        "Example of Python (scikit-learn) used in a pediatric Hodgkin lymphoma study​\n",
        "pubmed.ncbi.nlm.nih.gov\n",
        "Jupyter interact function for easy interactive widgets​\n",
        "ipywidgets.readthedocs.io\n",
        "Potential of AI (ChatGPT) to enhance healthcare decision support​\n",
        "pmc.ncbi.nlm.nih.gov\n",
        "Clinician-data scientists collaborating with technical teams​\n",
        "pmc.ncbi.nlm.nih.gov"
      ],
      "metadata": {
        "id": "Y5_Vhy4_wHqR"
      }
    },
    {
      "cell_type": "code",
      "source": [],
      "metadata": {
        "id": "UaB-6SefwEep"
      },
      "execution_count": null,
      "outputs": []
    },
    {
      "cell_type": "code",
      "source": [],
      "metadata": {
        "id": "B458-Ey9t1ie"
      },
      "execution_count": null,
      "outputs": []
    }
  ]
}
